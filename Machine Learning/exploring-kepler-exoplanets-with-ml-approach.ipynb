{
 "cells": [
  {
   "cell_type": "markdown",
   "metadata": {},
   "source": [
    "# Exploring Extrasolar Planets with ML Approach\n",
    "\n",
    "### We are going to create a classification model that will help us to identify a better candidate for a earth like habitable planet using Kepler Mission Data."
   ]
  },
  {
   "cell_type": "markdown",
   "metadata": {},
   "source": [
    "### Importing all the basic library"
   ]
  },
  {
   "cell_type": "code",
   "execution_count": 1,
   "metadata": {
    "execution": {
     "iopub.execute_input": "2022-11-15T17:38:28.280161Z",
     "iopub.status.busy": "2022-11-15T17:38:28.279535Z",
     "iopub.status.idle": "2022-11-15T17:38:28.923709Z",
     "shell.execute_reply": "2022-11-15T17:38:28.922669Z",
     "shell.execute_reply.started": "2022-11-15T17:38:28.280101Z"
    }
   },
   "outputs": [
    {
     "name": "stderr",
     "output_type": "stream",
     "text": [
      "c:\\users\\avigy\\appdata\\local\\programs\\python\\python39\\lib\\site-packages\\scipy\\__init__.py:146: UserWarning: A NumPy version >=1.16.5 and <1.23.0 is required for this version of SciPy (detected version 1.23.5\n",
      "  warnings.warn(f\"A NumPy version >={np_minversion} and <{np_maxversion}\"\n"
     ]
    }
   ],
   "source": [
    "import numpy as np\n",
    "import pandas as pd\n",
    "import seaborn as sns\n",
    "import matplotlib.pyplot as plt\n",
    "\n",
    "import warnings\n",
    "warnings.filterwarnings('ignore')"
   ]
  },
  {
   "cell_type": "markdown",
   "metadata": {},
   "source": [
    "### Importing the Kepler DataSet"
   ]
  },
  {
   "cell_type": "code",
   "execution_count": 2,
   "metadata": {
    "execution": {
     "iopub.execute_input": "2022-11-15T17:38:28.926177Z",
     "iopub.status.busy": "2022-11-15T17:38:28.925796Z",
     "iopub.status.idle": "2022-11-15T17:38:29.019659Z",
     "shell.execute_reply": "2022-11-15T17:38:29.018665Z",
     "shell.execute_reply.started": "2022-11-15T17:38:28.926146Z"
    }
   },
   "outputs": [],
   "source": [
    "df = pd.read_csv('kepler_data.csv')"
   ]
  },
  {
   "cell_type": "code",
   "execution_count": 3,
   "metadata": {
    "execution": {
     "iopub.execute_input": "2022-11-15T17:38:29.021569Z",
     "iopub.status.busy": "2022-11-15T17:38:29.02115Z",
     "iopub.status.idle": "2022-11-15T17:38:29.0273Z",
     "shell.execute_reply": "2022-11-15T17:38:29.026233Z",
     "shell.execute_reply.started": "2022-11-15T17:38:29.021527Z"
    }
   },
   "outputs": [],
   "source": [
    "#Display all the rows and columns upto 100 observation\n",
    "pd.set_option('display.max_rows',100)\n",
    "pd.set_option('display.max_columns',100)"
   ]
  },
  {
   "cell_type": "markdown",
   "metadata": {},
   "source": [
    "### Data Insights & EDA"
   ]
  },
  {
   "cell_type": "code",
   "execution_count": 4,
   "metadata": {
    "execution": {
     "iopub.execute_input": "2022-11-15T17:38:29.029799Z",
     "iopub.status.busy": "2022-11-15T17:38:29.029261Z",
     "iopub.status.idle": "2022-11-15T17:38:29.040257Z",
     "shell.execute_reply": "2022-11-15T17:38:29.039013Z",
     "shell.execute_reply.started": "2022-11-15T17:38:29.029766Z"
    }
   },
   "outputs": [
    {
     "name": "stdout",
     "output_type": "stream",
     "text": [
      "(9564, 50)\n",
      "The shape of train data is: Row 9564 columns 50\n"
     ]
    }
   ],
   "source": [
    "# Printing the shape of the train and test dataset\n",
    "\n",
    "print(df.shape)\n",
    "print('The shape of train data is: Row {} columns {}'.format(df.shape[0],df.shape[1]))"
   ]
  },
  {
   "cell_type": "code",
   "execution_count": 5,
   "metadata": {
    "execution": {
     "iopub.execute_input": "2022-11-15T17:38:29.041637Z",
     "iopub.status.busy": "2022-11-15T17:38:29.041293Z",
     "iopub.status.idle": "2022-11-15T17:38:29.105463Z",
     "shell.execute_reply": "2022-11-15T17:38:29.104327Z",
     "shell.execute_reply.started": "2022-11-15T17:38:29.041594Z"
    }
   },
   "outputs": [
    {
     "data": {
      "text/html": [
       "<div>\n",
       "<style scoped>\n",
       "    .dataframe tbody tr th:only-of-type {\n",
       "        vertical-align: middle;\n",
       "    }\n",
       "\n",
       "    .dataframe tbody tr th {\n",
       "        vertical-align: top;\n",
       "    }\n",
       "\n",
       "    .dataframe thead th {\n",
       "        text-align: right;\n",
       "    }\n",
       "</style>\n",
       "<table border=\"1\" class=\"dataframe\">\n",
       "  <thead>\n",
       "    <tr style=\"text-align: right;\">\n",
       "      <th></th>\n",
       "      <th>rowid</th>\n",
       "      <th>kepid</th>\n",
       "      <th>kepoi_name</th>\n",
       "      <th>kepler_name</th>\n",
       "      <th>koi_disposition</th>\n",
       "      <th>koi_pdisposition</th>\n",
       "      <th>koi_score</th>\n",
       "      <th>koi_fpflag_nt</th>\n",
       "      <th>koi_fpflag_ss</th>\n",
       "      <th>koi_fpflag_co</th>\n",
       "      <th>koi_fpflag_ec</th>\n",
       "      <th>koi_period</th>\n",
       "      <th>koi_period_err1</th>\n",
       "      <th>koi_period_err2</th>\n",
       "      <th>koi_time0bk</th>\n",
       "      <th>koi_time0bk_err1</th>\n",
       "      <th>koi_time0bk_err2</th>\n",
       "      <th>koi_impact</th>\n",
       "      <th>koi_impact_err1</th>\n",
       "      <th>koi_impact_err2</th>\n",
       "      <th>koi_duration</th>\n",
       "      <th>koi_duration_err1</th>\n",
       "      <th>koi_duration_err2</th>\n",
       "      <th>koi_depth</th>\n",
       "      <th>koi_depth_err1</th>\n",
       "      <th>koi_depth_err2</th>\n",
       "      <th>koi_prad</th>\n",
       "      <th>koi_prad_err1</th>\n",
       "      <th>koi_prad_err2</th>\n",
       "      <th>koi_teq</th>\n",
       "      <th>koi_teq_err1</th>\n",
       "      <th>koi_teq_err2</th>\n",
       "      <th>koi_insol</th>\n",
       "      <th>koi_insol_err1</th>\n",
       "      <th>koi_insol_err2</th>\n",
       "      <th>koi_model_snr</th>\n",
       "      <th>koi_tce_plnt_num</th>\n",
       "      <th>koi_tce_delivname</th>\n",
       "      <th>koi_steff</th>\n",
       "      <th>koi_steff_err1</th>\n",
       "      <th>koi_steff_err2</th>\n",
       "      <th>koi_slogg</th>\n",
       "      <th>koi_slogg_err1</th>\n",
       "      <th>koi_slogg_err2</th>\n",
       "      <th>koi_srad</th>\n",
       "      <th>koi_srad_err1</th>\n",
       "      <th>koi_srad_err2</th>\n",
       "      <th>ra</th>\n",
       "      <th>dec</th>\n",
       "      <th>koi_kepmag</th>\n",
       "    </tr>\n",
       "  </thead>\n",
       "  <tbody>\n",
       "    <tr>\n",
       "      <th>0</th>\n",
       "      <td>1</td>\n",
       "      <td>10797460</td>\n",
       "      <td>K00752.01</td>\n",
       "      <td>Kepler-227 b</td>\n",
       "      <td>CONFIRMED</td>\n",
       "      <td>CANDIDATE</td>\n",
       "      <td>1.000</td>\n",
       "      <td>0</td>\n",
       "      <td>0</td>\n",
       "      <td>0</td>\n",
       "      <td>0</td>\n",
       "      <td>9.488036</td>\n",
       "      <td>2.775000e-05</td>\n",
       "      <td>-2.775000e-05</td>\n",
       "      <td>170.538750</td>\n",
       "      <td>0.002160</td>\n",
       "      <td>-0.002160</td>\n",
       "      <td>0.146</td>\n",
       "      <td>0.318</td>\n",
       "      <td>-0.146</td>\n",
       "      <td>2.95750</td>\n",
       "      <td>0.08190</td>\n",
       "      <td>-0.08190</td>\n",
       "      <td>615.8</td>\n",
       "      <td>19.5</td>\n",
       "      <td>-19.5</td>\n",
       "      <td>2.26</td>\n",
       "      <td>0.26</td>\n",
       "      <td>-0.15</td>\n",
       "      <td>793.0</td>\n",
       "      <td>NaN</td>\n",
       "      <td>NaN</td>\n",
       "      <td>93.59</td>\n",
       "      <td>29.45</td>\n",
       "      <td>-16.65</td>\n",
       "      <td>35.8</td>\n",
       "      <td>1.0</td>\n",
       "      <td>q1_q17_dr25_tce</td>\n",
       "      <td>5455.0</td>\n",
       "      <td>81.0</td>\n",
       "      <td>-81.0</td>\n",
       "      <td>4.467</td>\n",
       "      <td>0.064</td>\n",
       "      <td>-0.096</td>\n",
       "      <td>0.927</td>\n",
       "      <td>0.105</td>\n",
       "      <td>-0.061</td>\n",
       "      <td>291.93423</td>\n",
       "      <td>48.141651</td>\n",
       "      <td>15.347</td>\n",
       "    </tr>\n",
       "    <tr>\n",
       "      <th>1</th>\n",
       "      <td>2</td>\n",
       "      <td>10797460</td>\n",
       "      <td>K00752.02</td>\n",
       "      <td>Kepler-227 c</td>\n",
       "      <td>CONFIRMED</td>\n",
       "      <td>CANDIDATE</td>\n",
       "      <td>0.969</td>\n",
       "      <td>0</td>\n",
       "      <td>0</td>\n",
       "      <td>0</td>\n",
       "      <td>0</td>\n",
       "      <td>54.418383</td>\n",
       "      <td>2.479000e-04</td>\n",
       "      <td>-2.479000e-04</td>\n",
       "      <td>162.513840</td>\n",
       "      <td>0.003520</td>\n",
       "      <td>-0.003520</td>\n",
       "      <td>0.586</td>\n",
       "      <td>0.059</td>\n",
       "      <td>-0.443</td>\n",
       "      <td>4.50700</td>\n",
       "      <td>0.11600</td>\n",
       "      <td>-0.11600</td>\n",
       "      <td>874.8</td>\n",
       "      <td>35.5</td>\n",
       "      <td>-35.5</td>\n",
       "      <td>2.83</td>\n",
       "      <td>0.32</td>\n",
       "      <td>-0.19</td>\n",
       "      <td>443.0</td>\n",
       "      <td>NaN</td>\n",
       "      <td>NaN</td>\n",
       "      <td>9.11</td>\n",
       "      <td>2.87</td>\n",
       "      <td>-1.62</td>\n",
       "      <td>25.8</td>\n",
       "      <td>2.0</td>\n",
       "      <td>q1_q17_dr25_tce</td>\n",
       "      <td>5455.0</td>\n",
       "      <td>81.0</td>\n",
       "      <td>-81.0</td>\n",
       "      <td>4.467</td>\n",
       "      <td>0.064</td>\n",
       "      <td>-0.096</td>\n",
       "      <td>0.927</td>\n",
       "      <td>0.105</td>\n",
       "      <td>-0.061</td>\n",
       "      <td>291.93423</td>\n",
       "      <td>48.141651</td>\n",
       "      <td>15.347</td>\n",
       "    </tr>\n",
       "    <tr>\n",
       "      <th>2</th>\n",
       "      <td>3</td>\n",
       "      <td>10811496</td>\n",
       "      <td>K00753.01</td>\n",
       "      <td>NaN</td>\n",
       "      <td>FALSE POSITIVE</td>\n",
       "      <td>FALSE POSITIVE</td>\n",
       "      <td>0.000</td>\n",
       "      <td>0</td>\n",
       "      <td>1</td>\n",
       "      <td>0</td>\n",
       "      <td>0</td>\n",
       "      <td>19.899140</td>\n",
       "      <td>1.494000e-05</td>\n",
       "      <td>-1.494000e-05</td>\n",
       "      <td>175.850252</td>\n",
       "      <td>0.000581</td>\n",
       "      <td>-0.000581</td>\n",
       "      <td>0.969</td>\n",
       "      <td>5.126</td>\n",
       "      <td>-0.077</td>\n",
       "      <td>1.78220</td>\n",
       "      <td>0.03410</td>\n",
       "      <td>-0.03410</td>\n",
       "      <td>10829.0</td>\n",
       "      <td>171.0</td>\n",
       "      <td>-171.0</td>\n",
       "      <td>14.60</td>\n",
       "      <td>3.92</td>\n",
       "      <td>-1.31</td>\n",
       "      <td>638.0</td>\n",
       "      <td>NaN</td>\n",
       "      <td>NaN</td>\n",
       "      <td>39.30</td>\n",
       "      <td>31.04</td>\n",
       "      <td>-10.49</td>\n",
       "      <td>76.3</td>\n",
       "      <td>1.0</td>\n",
       "      <td>q1_q17_dr25_tce</td>\n",
       "      <td>5853.0</td>\n",
       "      <td>158.0</td>\n",
       "      <td>-176.0</td>\n",
       "      <td>4.544</td>\n",
       "      <td>0.044</td>\n",
       "      <td>-0.176</td>\n",
       "      <td>0.868</td>\n",
       "      <td>0.233</td>\n",
       "      <td>-0.078</td>\n",
       "      <td>297.00482</td>\n",
       "      <td>48.134129</td>\n",
       "      <td>15.436</td>\n",
       "    </tr>\n",
       "    <tr>\n",
       "      <th>3</th>\n",
       "      <td>4</td>\n",
       "      <td>10848459</td>\n",
       "      <td>K00754.01</td>\n",
       "      <td>NaN</td>\n",
       "      <td>FALSE POSITIVE</td>\n",
       "      <td>FALSE POSITIVE</td>\n",
       "      <td>0.000</td>\n",
       "      <td>0</td>\n",
       "      <td>1</td>\n",
       "      <td>0</td>\n",
       "      <td>0</td>\n",
       "      <td>1.736952</td>\n",
       "      <td>2.630000e-07</td>\n",
       "      <td>-2.630000e-07</td>\n",
       "      <td>170.307565</td>\n",
       "      <td>0.000115</td>\n",
       "      <td>-0.000115</td>\n",
       "      <td>1.276</td>\n",
       "      <td>0.115</td>\n",
       "      <td>-0.092</td>\n",
       "      <td>2.40641</td>\n",
       "      <td>0.00537</td>\n",
       "      <td>-0.00537</td>\n",
       "      <td>8079.2</td>\n",
       "      <td>12.8</td>\n",
       "      <td>-12.8</td>\n",
       "      <td>33.46</td>\n",
       "      <td>8.50</td>\n",
       "      <td>-2.83</td>\n",
       "      <td>1395.0</td>\n",
       "      <td>NaN</td>\n",
       "      <td>NaN</td>\n",
       "      <td>891.96</td>\n",
       "      <td>668.95</td>\n",
       "      <td>-230.35</td>\n",
       "      <td>505.6</td>\n",
       "      <td>1.0</td>\n",
       "      <td>q1_q17_dr25_tce</td>\n",
       "      <td>5805.0</td>\n",
       "      <td>157.0</td>\n",
       "      <td>-174.0</td>\n",
       "      <td>4.564</td>\n",
       "      <td>0.053</td>\n",
       "      <td>-0.168</td>\n",
       "      <td>0.791</td>\n",
       "      <td>0.201</td>\n",
       "      <td>-0.067</td>\n",
       "      <td>285.53461</td>\n",
       "      <td>48.285210</td>\n",
       "      <td>15.597</td>\n",
       "    </tr>\n",
       "    <tr>\n",
       "      <th>4</th>\n",
       "      <td>5</td>\n",
       "      <td>10854555</td>\n",
       "      <td>K00755.01</td>\n",
       "      <td>Kepler-664 b</td>\n",
       "      <td>CONFIRMED</td>\n",
       "      <td>CANDIDATE</td>\n",
       "      <td>1.000</td>\n",
       "      <td>0</td>\n",
       "      <td>0</td>\n",
       "      <td>0</td>\n",
       "      <td>0</td>\n",
       "      <td>2.525592</td>\n",
       "      <td>3.761000e-06</td>\n",
       "      <td>-3.761000e-06</td>\n",
       "      <td>171.595550</td>\n",
       "      <td>0.001130</td>\n",
       "      <td>-0.001130</td>\n",
       "      <td>0.701</td>\n",
       "      <td>0.235</td>\n",
       "      <td>-0.478</td>\n",
       "      <td>1.65450</td>\n",
       "      <td>0.04200</td>\n",
       "      <td>-0.04200</td>\n",
       "      <td>603.3</td>\n",
       "      <td>16.9</td>\n",
       "      <td>-16.9</td>\n",
       "      <td>2.75</td>\n",
       "      <td>0.88</td>\n",
       "      <td>-0.35</td>\n",
       "      <td>1406.0</td>\n",
       "      <td>NaN</td>\n",
       "      <td>NaN</td>\n",
       "      <td>926.16</td>\n",
       "      <td>874.33</td>\n",
       "      <td>-314.24</td>\n",
       "      <td>40.9</td>\n",
       "      <td>1.0</td>\n",
       "      <td>q1_q17_dr25_tce</td>\n",
       "      <td>6031.0</td>\n",
       "      <td>169.0</td>\n",
       "      <td>-211.0</td>\n",
       "      <td>4.438</td>\n",
       "      <td>0.070</td>\n",
       "      <td>-0.210</td>\n",
       "      <td>1.046</td>\n",
       "      <td>0.334</td>\n",
       "      <td>-0.133</td>\n",
       "      <td>288.75488</td>\n",
       "      <td>48.226200</td>\n",
       "      <td>15.509</td>\n",
       "    </tr>\n",
       "  </tbody>\n",
       "</table>\n",
       "</div>"
      ],
      "text/plain": [
       "   rowid     kepid kepoi_name   kepler_name koi_disposition koi_pdisposition  \\\n",
       "0      1  10797460  K00752.01  Kepler-227 b       CONFIRMED        CANDIDATE   \n",
       "1      2  10797460  K00752.02  Kepler-227 c       CONFIRMED        CANDIDATE   \n",
       "2      3  10811496  K00753.01           NaN  FALSE POSITIVE   FALSE POSITIVE   \n",
       "3      4  10848459  K00754.01           NaN  FALSE POSITIVE   FALSE POSITIVE   \n",
       "4      5  10854555  K00755.01  Kepler-664 b       CONFIRMED        CANDIDATE   \n",
       "\n",
       "   koi_score  koi_fpflag_nt  koi_fpflag_ss  koi_fpflag_co  koi_fpflag_ec  \\\n",
       "0      1.000              0              0              0              0   \n",
       "1      0.969              0              0              0              0   \n",
       "2      0.000              0              1              0              0   \n",
       "3      0.000              0              1              0              0   \n",
       "4      1.000              0              0              0              0   \n",
       "\n",
       "   koi_period  koi_period_err1  koi_period_err2  koi_time0bk  \\\n",
       "0    9.488036     2.775000e-05    -2.775000e-05   170.538750   \n",
       "1   54.418383     2.479000e-04    -2.479000e-04   162.513840   \n",
       "2   19.899140     1.494000e-05    -1.494000e-05   175.850252   \n",
       "3    1.736952     2.630000e-07    -2.630000e-07   170.307565   \n",
       "4    2.525592     3.761000e-06    -3.761000e-06   171.595550   \n",
       "\n",
       "   koi_time0bk_err1  koi_time0bk_err2  koi_impact  koi_impact_err1  \\\n",
       "0          0.002160         -0.002160       0.146            0.318   \n",
       "1          0.003520         -0.003520       0.586            0.059   \n",
       "2          0.000581         -0.000581       0.969            5.126   \n",
       "3          0.000115         -0.000115       1.276            0.115   \n",
       "4          0.001130         -0.001130       0.701            0.235   \n",
       "\n",
       "   koi_impact_err2  koi_duration  koi_duration_err1  koi_duration_err2  \\\n",
       "0           -0.146       2.95750            0.08190           -0.08190   \n",
       "1           -0.443       4.50700            0.11600           -0.11600   \n",
       "2           -0.077       1.78220            0.03410           -0.03410   \n",
       "3           -0.092       2.40641            0.00537           -0.00537   \n",
       "4           -0.478       1.65450            0.04200           -0.04200   \n",
       "\n",
       "   koi_depth  koi_depth_err1  koi_depth_err2  koi_prad  koi_prad_err1  \\\n",
       "0      615.8            19.5           -19.5      2.26           0.26   \n",
       "1      874.8            35.5           -35.5      2.83           0.32   \n",
       "2    10829.0           171.0          -171.0     14.60           3.92   \n",
       "3     8079.2            12.8           -12.8     33.46           8.50   \n",
       "4      603.3            16.9           -16.9      2.75           0.88   \n",
       "\n",
       "   koi_prad_err2  koi_teq  koi_teq_err1  koi_teq_err2  koi_insol  \\\n",
       "0          -0.15    793.0           NaN           NaN      93.59   \n",
       "1          -0.19    443.0           NaN           NaN       9.11   \n",
       "2          -1.31    638.0           NaN           NaN      39.30   \n",
       "3          -2.83   1395.0           NaN           NaN     891.96   \n",
       "4          -0.35   1406.0           NaN           NaN     926.16   \n",
       "\n",
       "   koi_insol_err1  koi_insol_err2  koi_model_snr  koi_tce_plnt_num  \\\n",
       "0           29.45          -16.65           35.8               1.0   \n",
       "1            2.87           -1.62           25.8               2.0   \n",
       "2           31.04          -10.49           76.3               1.0   \n",
       "3          668.95         -230.35          505.6               1.0   \n",
       "4          874.33         -314.24           40.9               1.0   \n",
       "\n",
       "  koi_tce_delivname  koi_steff  koi_steff_err1  koi_steff_err2  koi_slogg  \\\n",
       "0   q1_q17_dr25_tce     5455.0            81.0           -81.0      4.467   \n",
       "1   q1_q17_dr25_tce     5455.0            81.0           -81.0      4.467   \n",
       "2   q1_q17_dr25_tce     5853.0           158.0          -176.0      4.544   \n",
       "3   q1_q17_dr25_tce     5805.0           157.0          -174.0      4.564   \n",
       "4   q1_q17_dr25_tce     6031.0           169.0          -211.0      4.438   \n",
       "\n",
       "   koi_slogg_err1  koi_slogg_err2  koi_srad  koi_srad_err1  koi_srad_err2  \\\n",
       "0           0.064          -0.096     0.927          0.105         -0.061   \n",
       "1           0.064          -0.096     0.927          0.105         -0.061   \n",
       "2           0.044          -0.176     0.868          0.233         -0.078   \n",
       "3           0.053          -0.168     0.791          0.201         -0.067   \n",
       "4           0.070          -0.210     1.046          0.334         -0.133   \n",
       "\n",
       "          ra        dec  koi_kepmag  \n",
       "0  291.93423  48.141651      15.347  \n",
       "1  291.93423  48.141651      15.347  \n",
       "2  297.00482  48.134129      15.436  \n",
       "3  285.53461  48.285210      15.597  \n",
       "4  288.75488  48.226200      15.509  "
      ]
     },
     "execution_count": 5,
     "metadata": {},
     "output_type": "execute_result"
    }
   ],
   "source": [
    "df.head()"
   ]
  },
  {
   "cell_type": "markdown",
   "metadata": {},
   "source": [
    "- The Kepler space telescope is a retired space telescope launched by NASA in 2009 to discover Earth-size planets orbiting other stars. We can download the data recorded by Kepler from Exoplanet Archive. The NASA Exoplanet Archive is an online astronomical exoplanet and stellar catalog. Kepler Identifies the KOI (Kepler Object of Interest and made a comprehensive analysis to disposition them into planet candidates and false positives.\n",
    "\n"
   ]
  },
  {
   "cell_type": "markdown",
   "metadata": {},
   "source": [
    "### Let us rename the features for a better understanding."
   ]
  },
  {
   "cell_type": "code",
   "execution_count": 6,
   "metadata": {
    "execution": {
     "iopub.execute_input": "2022-11-15T17:38:29.107896Z",
     "iopub.status.busy": "2022-11-15T17:38:29.107186Z",
     "iopub.status.idle": "2022-11-15T17:38:29.123316Z",
     "shell.execute_reply": "2022-11-15T17:38:29.12197Z",
     "shell.execute_reply.started": "2022-11-15T17:38:29.107856Z"
    }
   },
   "outputs": [],
   "source": [
    "df = df.rename(columns={'kepid':'KepID',\n",
    "'kepoi_name':'KOIName',\n",
    "'kepler_name':'KeplerName',\n",
    "'koi_disposition':'Exoplanet_Archive_Disposition',\n",
    "'koi_pdisposition':'Disposition_Using_KeplerData',\n",
    "'koi_score':'DispositionScore',\n",
    "'koi_fpflag_nt':'NotTransit_LikeFPFlag',\n",
    "'koi_fpflag_ss':'StellarEclipse_FP_Flag',\n",
    "'koi_fpflag_co':'CentroidOffsetFPFlag',\n",
    "'koi_fpflag_ec':'EphemerisMatchIndicatesContaminationFPFlag',\n",
    "'koi_period':'OrbitalPeriod_days',\n",
    "'koi_period_err1':'OrbitalPeriodUpper_days',\n",
    "'koi_period_err2':'OrbitalPeriodLower_days',\n",
    "'koi_time0bk':'TransitEpoch_BKJD',\n",
    "'koi_time0bk_err1':'TransitEpoch_Lower',\n",
    "'koi_time0bk_err2':'TransitEpoch_Upper',\n",
    "'koi_impact':'ImpactParamete',\n",
    "'koi_impact_err1':'ImpactParameter_Lower',\n",
    "'koi_impact_err2':'ImpactParameter_Upper',\n",
    "'koi_duration':'TransitDuration_hrs',\n",
    "'koi_duration_err1':'TransitDuration_Lower',\n",
    "'koi_duration_err2':'TransitDuration_Upper',\n",
    "'koi_depth':'TransitDepth_ppm',\n",
    "'koi_depth_err1':'TransitDepth_Lower',\n",
    "'koi_depth_err2':'TransitDepth_Upper',\n",
    "'koi_prad':'PlanetaryRadius_Earthradii',\n",
    "'koi_prad_err1':'PlanetaryRadius_Lower',\n",
    "'koi_prad_err2':'PlanetaryRadius_Upper',\n",
    "'koi_teq':'EquilibriumTemperature_K',\n",
    "'koi_teq_err1':'EquilibriumTemperature_Lower',\n",
    "'koi_teq_err2':'EquilibriumTemperature_Upper',\n",
    "'koi_insol':'InsolationFlux_Earthflux',\n",
    "'koi_insol_err1':'InsolationFlux_Lower',\n",
    "'koi_insol_err2':'InsolationFlux_Upper',\n",
    "'koi_model_snr':'TransitSignal_to_Noise',\n",
    "'koi_tce_plnt_num':'TCE_PlanetNumber',\n",
    "'koi_tce_delivname':'TCE_DeliverName',\n",
    "'koi_steff':'StellarEffectiveTemperature_K',\n",
    "'koi_steff_err1':'StellarEffectiveTemp_Lower',\n",
    "'koi_steff_err2':'StellarEffectiveTemp_Upper',\n",
    "'koi_slogg':'StellarSurfaceGravity',\n",
    "'koi_slogg_err1':'Stellar_SurfaceGravity_Lower',\n",
    "'koi_slogg_err2':'Stellar_SurfaceGravity_Upper',\n",
    "'koi_srad':'StellarRadius_Solarradii',\n",
    "'koi_srad_err1':'StellarRadius_Lower',\n",
    "'koi_srad_err2':'StellarRadius_Upper',\n",
    "'ra':'RA_deg',\n",
    "'dec':'Dec_deg',\n",
    "'koi_kepmag':'Kepler_band[mag]'\n",
    "})"
   ]
  },
  {
   "cell_type": "code",
   "execution_count": 7,
   "metadata": {
    "execution": {
     "iopub.execute_input": "2022-11-15T17:38:29.125183Z",
     "iopub.status.busy": "2022-11-15T17:38:29.124849Z",
     "iopub.status.idle": "2022-11-15T17:38:29.186228Z",
     "shell.execute_reply": "2022-11-15T17:38:29.184854Z",
     "shell.execute_reply.started": "2022-11-15T17:38:29.125153Z"
    },
    "scrolled": true
   },
   "outputs": [
    {
     "data": {
      "text/html": [
       "<div>\n",
       "<style scoped>\n",
       "    .dataframe tbody tr th:only-of-type {\n",
       "        vertical-align: middle;\n",
       "    }\n",
       "\n",
       "    .dataframe tbody tr th {\n",
       "        vertical-align: top;\n",
       "    }\n",
       "\n",
       "    .dataframe thead th {\n",
       "        text-align: right;\n",
       "    }\n",
       "</style>\n",
       "<table border=\"1\" class=\"dataframe\">\n",
       "  <thead>\n",
       "    <tr style=\"text-align: right;\">\n",
       "      <th></th>\n",
       "      <th>rowid</th>\n",
       "      <th>KepID</th>\n",
       "      <th>KOIName</th>\n",
       "      <th>KeplerName</th>\n",
       "      <th>Exoplanet_Archive_Disposition</th>\n",
       "      <th>Disposition_Using_KeplerData</th>\n",
       "      <th>DispositionScore</th>\n",
       "      <th>NotTransit_LikeFPFlag</th>\n",
       "      <th>StellarEclipse_FP_Flag</th>\n",
       "      <th>CentroidOffsetFPFlag</th>\n",
       "      <th>EphemerisMatchIndicatesContaminationFPFlag</th>\n",
       "      <th>OrbitalPeriod_days</th>\n",
       "      <th>OrbitalPeriodUpper_days</th>\n",
       "      <th>OrbitalPeriodLower_days</th>\n",
       "      <th>TransitEpoch_BKJD</th>\n",
       "      <th>TransitEpoch_Lower</th>\n",
       "      <th>TransitEpoch_Upper</th>\n",
       "      <th>ImpactParamete</th>\n",
       "      <th>ImpactParameter_Lower</th>\n",
       "      <th>ImpactParameter_Upper</th>\n",
       "      <th>TransitDuration_hrs</th>\n",
       "      <th>TransitDuration_Lower</th>\n",
       "      <th>TransitDuration_Upper</th>\n",
       "      <th>TransitDepth_ppm</th>\n",
       "      <th>TransitDepth_Lower</th>\n",
       "      <th>TransitDepth_Upper</th>\n",
       "      <th>PlanetaryRadius_Earthradii</th>\n",
       "      <th>PlanetaryRadius_Lower</th>\n",
       "      <th>PlanetaryRadius_Upper</th>\n",
       "      <th>EquilibriumTemperature_K</th>\n",
       "      <th>EquilibriumTemperature_Lower</th>\n",
       "      <th>EquilibriumTemperature_Upper</th>\n",
       "      <th>InsolationFlux_Earthflux</th>\n",
       "      <th>InsolationFlux_Lower</th>\n",
       "      <th>InsolationFlux_Upper</th>\n",
       "      <th>TransitSignal_to_Noise</th>\n",
       "      <th>TCE_PlanetNumber</th>\n",
       "      <th>TCE_DeliverName</th>\n",
       "      <th>StellarEffectiveTemperature_K</th>\n",
       "      <th>StellarEffectiveTemp_Lower</th>\n",
       "      <th>StellarEffectiveTemp_Upper</th>\n",
       "      <th>StellarSurfaceGravity</th>\n",
       "      <th>Stellar_SurfaceGravity_Lower</th>\n",
       "      <th>Stellar_SurfaceGravity_Upper</th>\n",
       "      <th>StellarRadius_Solarradii</th>\n",
       "      <th>StellarRadius_Lower</th>\n",
       "      <th>StellarRadius_Upper</th>\n",
       "      <th>RA_deg</th>\n",
       "      <th>Dec_deg</th>\n",
       "      <th>Kepler_band[mag]</th>\n",
       "    </tr>\n",
       "  </thead>\n",
       "  <tbody>\n",
       "    <tr>\n",
       "      <th>0</th>\n",
       "      <td>1</td>\n",
       "      <td>10797460</td>\n",
       "      <td>K00752.01</td>\n",
       "      <td>Kepler-227 b</td>\n",
       "      <td>CONFIRMED</td>\n",
       "      <td>CANDIDATE</td>\n",
       "      <td>1.000</td>\n",
       "      <td>0</td>\n",
       "      <td>0</td>\n",
       "      <td>0</td>\n",
       "      <td>0</td>\n",
       "      <td>9.488036</td>\n",
       "      <td>2.775000e-05</td>\n",
       "      <td>-2.775000e-05</td>\n",
       "      <td>170.538750</td>\n",
       "      <td>0.002160</td>\n",
       "      <td>-0.002160</td>\n",
       "      <td>0.146</td>\n",
       "      <td>0.318</td>\n",
       "      <td>-0.146</td>\n",
       "      <td>2.95750</td>\n",
       "      <td>0.08190</td>\n",
       "      <td>-0.08190</td>\n",
       "      <td>615.8</td>\n",
       "      <td>19.5</td>\n",
       "      <td>-19.5</td>\n",
       "      <td>2.26</td>\n",
       "      <td>0.26</td>\n",
       "      <td>-0.15</td>\n",
       "      <td>793.0</td>\n",
       "      <td>NaN</td>\n",
       "      <td>NaN</td>\n",
       "      <td>93.59</td>\n",
       "      <td>29.45</td>\n",
       "      <td>-16.65</td>\n",
       "      <td>35.8</td>\n",
       "      <td>1.0</td>\n",
       "      <td>q1_q17_dr25_tce</td>\n",
       "      <td>5455.0</td>\n",
       "      <td>81.0</td>\n",
       "      <td>-81.0</td>\n",
       "      <td>4.467</td>\n",
       "      <td>0.064</td>\n",
       "      <td>-0.096</td>\n",
       "      <td>0.927</td>\n",
       "      <td>0.105</td>\n",
       "      <td>-0.061</td>\n",
       "      <td>291.93423</td>\n",
       "      <td>48.141651</td>\n",
       "      <td>15.347</td>\n",
       "    </tr>\n",
       "    <tr>\n",
       "      <th>1</th>\n",
       "      <td>2</td>\n",
       "      <td>10797460</td>\n",
       "      <td>K00752.02</td>\n",
       "      <td>Kepler-227 c</td>\n",
       "      <td>CONFIRMED</td>\n",
       "      <td>CANDIDATE</td>\n",
       "      <td>0.969</td>\n",
       "      <td>0</td>\n",
       "      <td>0</td>\n",
       "      <td>0</td>\n",
       "      <td>0</td>\n",
       "      <td>54.418383</td>\n",
       "      <td>2.479000e-04</td>\n",
       "      <td>-2.479000e-04</td>\n",
       "      <td>162.513840</td>\n",
       "      <td>0.003520</td>\n",
       "      <td>-0.003520</td>\n",
       "      <td>0.586</td>\n",
       "      <td>0.059</td>\n",
       "      <td>-0.443</td>\n",
       "      <td>4.50700</td>\n",
       "      <td>0.11600</td>\n",
       "      <td>-0.11600</td>\n",
       "      <td>874.8</td>\n",
       "      <td>35.5</td>\n",
       "      <td>-35.5</td>\n",
       "      <td>2.83</td>\n",
       "      <td>0.32</td>\n",
       "      <td>-0.19</td>\n",
       "      <td>443.0</td>\n",
       "      <td>NaN</td>\n",
       "      <td>NaN</td>\n",
       "      <td>9.11</td>\n",
       "      <td>2.87</td>\n",
       "      <td>-1.62</td>\n",
       "      <td>25.8</td>\n",
       "      <td>2.0</td>\n",
       "      <td>q1_q17_dr25_tce</td>\n",
       "      <td>5455.0</td>\n",
       "      <td>81.0</td>\n",
       "      <td>-81.0</td>\n",
       "      <td>4.467</td>\n",
       "      <td>0.064</td>\n",
       "      <td>-0.096</td>\n",
       "      <td>0.927</td>\n",
       "      <td>0.105</td>\n",
       "      <td>-0.061</td>\n",
       "      <td>291.93423</td>\n",
       "      <td>48.141651</td>\n",
       "      <td>15.347</td>\n",
       "    </tr>\n",
       "    <tr>\n",
       "      <th>2</th>\n",
       "      <td>3</td>\n",
       "      <td>10811496</td>\n",
       "      <td>K00753.01</td>\n",
       "      <td>NaN</td>\n",
       "      <td>FALSE POSITIVE</td>\n",
       "      <td>FALSE POSITIVE</td>\n",
       "      <td>0.000</td>\n",
       "      <td>0</td>\n",
       "      <td>1</td>\n",
       "      <td>0</td>\n",
       "      <td>0</td>\n",
       "      <td>19.899140</td>\n",
       "      <td>1.494000e-05</td>\n",
       "      <td>-1.494000e-05</td>\n",
       "      <td>175.850252</td>\n",
       "      <td>0.000581</td>\n",
       "      <td>-0.000581</td>\n",
       "      <td>0.969</td>\n",
       "      <td>5.126</td>\n",
       "      <td>-0.077</td>\n",
       "      <td>1.78220</td>\n",
       "      <td>0.03410</td>\n",
       "      <td>-0.03410</td>\n",
       "      <td>10829.0</td>\n",
       "      <td>171.0</td>\n",
       "      <td>-171.0</td>\n",
       "      <td>14.60</td>\n",
       "      <td>3.92</td>\n",
       "      <td>-1.31</td>\n",
       "      <td>638.0</td>\n",
       "      <td>NaN</td>\n",
       "      <td>NaN</td>\n",
       "      <td>39.30</td>\n",
       "      <td>31.04</td>\n",
       "      <td>-10.49</td>\n",
       "      <td>76.3</td>\n",
       "      <td>1.0</td>\n",
       "      <td>q1_q17_dr25_tce</td>\n",
       "      <td>5853.0</td>\n",
       "      <td>158.0</td>\n",
       "      <td>-176.0</td>\n",
       "      <td>4.544</td>\n",
       "      <td>0.044</td>\n",
       "      <td>-0.176</td>\n",
       "      <td>0.868</td>\n",
       "      <td>0.233</td>\n",
       "      <td>-0.078</td>\n",
       "      <td>297.00482</td>\n",
       "      <td>48.134129</td>\n",
       "      <td>15.436</td>\n",
       "    </tr>\n",
       "    <tr>\n",
       "      <th>3</th>\n",
       "      <td>4</td>\n",
       "      <td>10848459</td>\n",
       "      <td>K00754.01</td>\n",
       "      <td>NaN</td>\n",
       "      <td>FALSE POSITIVE</td>\n",
       "      <td>FALSE POSITIVE</td>\n",
       "      <td>0.000</td>\n",
       "      <td>0</td>\n",
       "      <td>1</td>\n",
       "      <td>0</td>\n",
       "      <td>0</td>\n",
       "      <td>1.736952</td>\n",
       "      <td>2.630000e-07</td>\n",
       "      <td>-2.630000e-07</td>\n",
       "      <td>170.307565</td>\n",
       "      <td>0.000115</td>\n",
       "      <td>-0.000115</td>\n",
       "      <td>1.276</td>\n",
       "      <td>0.115</td>\n",
       "      <td>-0.092</td>\n",
       "      <td>2.40641</td>\n",
       "      <td>0.00537</td>\n",
       "      <td>-0.00537</td>\n",
       "      <td>8079.2</td>\n",
       "      <td>12.8</td>\n",
       "      <td>-12.8</td>\n",
       "      <td>33.46</td>\n",
       "      <td>8.50</td>\n",
       "      <td>-2.83</td>\n",
       "      <td>1395.0</td>\n",
       "      <td>NaN</td>\n",
       "      <td>NaN</td>\n",
       "      <td>891.96</td>\n",
       "      <td>668.95</td>\n",
       "      <td>-230.35</td>\n",
       "      <td>505.6</td>\n",
       "      <td>1.0</td>\n",
       "      <td>q1_q17_dr25_tce</td>\n",
       "      <td>5805.0</td>\n",
       "      <td>157.0</td>\n",
       "      <td>-174.0</td>\n",
       "      <td>4.564</td>\n",
       "      <td>0.053</td>\n",
       "      <td>-0.168</td>\n",
       "      <td>0.791</td>\n",
       "      <td>0.201</td>\n",
       "      <td>-0.067</td>\n",
       "      <td>285.53461</td>\n",
       "      <td>48.285210</td>\n",
       "      <td>15.597</td>\n",
       "    </tr>\n",
       "    <tr>\n",
       "      <th>4</th>\n",
       "      <td>5</td>\n",
       "      <td>10854555</td>\n",
       "      <td>K00755.01</td>\n",
       "      <td>Kepler-664 b</td>\n",
       "      <td>CONFIRMED</td>\n",
       "      <td>CANDIDATE</td>\n",
       "      <td>1.000</td>\n",
       "      <td>0</td>\n",
       "      <td>0</td>\n",
       "      <td>0</td>\n",
       "      <td>0</td>\n",
       "      <td>2.525592</td>\n",
       "      <td>3.761000e-06</td>\n",
       "      <td>-3.761000e-06</td>\n",
       "      <td>171.595550</td>\n",
       "      <td>0.001130</td>\n",
       "      <td>-0.001130</td>\n",
       "      <td>0.701</td>\n",
       "      <td>0.235</td>\n",
       "      <td>-0.478</td>\n",
       "      <td>1.65450</td>\n",
       "      <td>0.04200</td>\n",
       "      <td>-0.04200</td>\n",
       "      <td>603.3</td>\n",
       "      <td>16.9</td>\n",
       "      <td>-16.9</td>\n",
       "      <td>2.75</td>\n",
       "      <td>0.88</td>\n",
       "      <td>-0.35</td>\n",
       "      <td>1406.0</td>\n",
       "      <td>NaN</td>\n",
       "      <td>NaN</td>\n",
       "      <td>926.16</td>\n",
       "      <td>874.33</td>\n",
       "      <td>-314.24</td>\n",
       "      <td>40.9</td>\n",
       "      <td>1.0</td>\n",
       "      <td>q1_q17_dr25_tce</td>\n",
       "      <td>6031.0</td>\n",
       "      <td>169.0</td>\n",
       "      <td>-211.0</td>\n",
       "      <td>4.438</td>\n",
       "      <td>0.070</td>\n",
       "      <td>-0.210</td>\n",
       "      <td>1.046</td>\n",
       "      <td>0.334</td>\n",
       "      <td>-0.133</td>\n",
       "      <td>288.75488</td>\n",
       "      <td>48.226200</td>\n",
       "      <td>15.509</td>\n",
       "    </tr>\n",
       "  </tbody>\n",
       "</table>\n",
       "</div>"
      ],
      "text/plain": [
       "   rowid     KepID    KOIName    KeplerName Exoplanet_Archive_Disposition  \\\n",
       "0      1  10797460  K00752.01  Kepler-227 b                     CONFIRMED   \n",
       "1      2  10797460  K00752.02  Kepler-227 c                     CONFIRMED   \n",
       "2      3  10811496  K00753.01           NaN                FALSE POSITIVE   \n",
       "3      4  10848459  K00754.01           NaN                FALSE POSITIVE   \n",
       "4      5  10854555  K00755.01  Kepler-664 b                     CONFIRMED   \n",
       "\n",
       "  Disposition_Using_KeplerData  DispositionScore  NotTransit_LikeFPFlag  \\\n",
       "0                    CANDIDATE             1.000                      0   \n",
       "1                    CANDIDATE             0.969                      0   \n",
       "2               FALSE POSITIVE             0.000                      0   \n",
       "3               FALSE POSITIVE             0.000                      0   \n",
       "4                    CANDIDATE             1.000                      0   \n",
       "\n",
       "   StellarEclipse_FP_Flag  CentroidOffsetFPFlag  \\\n",
       "0                       0                     0   \n",
       "1                       0                     0   \n",
       "2                       1                     0   \n",
       "3                       1                     0   \n",
       "4                       0                     0   \n",
       "\n",
       "   EphemerisMatchIndicatesContaminationFPFlag  OrbitalPeriod_days  \\\n",
       "0                                           0            9.488036   \n",
       "1                                           0           54.418383   \n",
       "2                                           0           19.899140   \n",
       "3                                           0            1.736952   \n",
       "4                                           0            2.525592   \n",
       "\n",
       "   OrbitalPeriodUpper_days  OrbitalPeriodLower_days  TransitEpoch_BKJD  \\\n",
       "0             2.775000e-05            -2.775000e-05         170.538750   \n",
       "1             2.479000e-04            -2.479000e-04         162.513840   \n",
       "2             1.494000e-05            -1.494000e-05         175.850252   \n",
       "3             2.630000e-07            -2.630000e-07         170.307565   \n",
       "4             3.761000e-06            -3.761000e-06         171.595550   \n",
       "\n",
       "   TransitEpoch_Lower  TransitEpoch_Upper  ImpactParamete  \\\n",
       "0            0.002160           -0.002160           0.146   \n",
       "1            0.003520           -0.003520           0.586   \n",
       "2            0.000581           -0.000581           0.969   \n",
       "3            0.000115           -0.000115           1.276   \n",
       "4            0.001130           -0.001130           0.701   \n",
       "\n",
       "   ImpactParameter_Lower  ImpactParameter_Upper  TransitDuration_hrs  \\\n",
       "0                  0.318                 -0.146              2.95750   \n",
       "1                  0.059                 -0.443              4.50700   \n",
       "2                  5.126                 -0.077              1.78220   \n",
       "3                  0.115                 -0.092              2.40641   \n",
       "4                  0.235                 -0.478              1.65450   \n",
       "\n",
       "   TransitDuration_Lower  TransitDuration_Upper  TransitDepth_ppm  \\\n",
       "0                0.08190               -0.08190             615.8   \n",
       "1                0.11600               -0.11600             874.8   \n",
       "2                0.03410               -0.03410           10829.0   \n",
       "3                0.00537               -0.00537            8079.2   \n",
       "4                0.04200               -0.04200             603.3   \n",
       "\n",
       "   TransitDepth_Lower  TransitDepth_Upper  PlanetaryRadius_Earthradii  \\\n",
       "0                19.5               -19.5                        2.26   \n",
       "1                35.5               -35.5                        2.83   \n",
       "2               171.0              -171.0                       14.60   \n",
       "3                12.8               -12.8                       33.46   \n",
       "4                16.9               -16.9                        2.75   \n",
       "\n",
       "   PlanetaryRadius_Lower  PlanetaryRadius_Upper  EquilibriumTemperature_K  \\\n",
       "0                   0.26                  -0.15                     793.0   \n",
       "1                   0.32                  -0.19                     443.0   \n",
       "2                   3.92                  -1.31                     638.0   \n",
       "3                   8.50                  -2.83                    1395.0   \n",
       "4                   0.88                  -0.35                    1406.0   \n",
       "\n",
       "   EquilibriumTemperature_Lower  EquilibriumTemperature_Upper  \\\n",
       "0                           NaN                           NaN   \n",
       "1                           NaN                           NaN   \n",
       "2                           NaN                           NaN   \n",
       "3                           NaN                           NaN   \n",
       "4                           NaN                           NaN   \n",
       "\n",
       "   InsolationFlux_Earthflux  InsolationFlux_Lower  InsolationFlux_Upper  \\\n",
       "0                     93.59                 29.45                -16.65   \n",
       "1                      9.11                  2.87                 -1.62   \n",
       "2                     39.30                 31.04                -10.49   \n",
       "3                    891.96                668.95               -230.35   \n",
       "4                    926.16                874.33               -314.24   \n",
       "\n",
       "   TransitSignal_to_Noise  TCE_PlanetNumber  TCE_DeliverName  \\\n",
       "0                    35.8               1.0  q1_q17_dr25_tce   \n",
       "1                    25.8               2.0  q1_q17_dr25_tce   \n",
       "2                    76.3               1.0  q1_q17_dr25_tce   \n",
       "3                   505.6               1.0  q1_q17_dr25_tce   \n",
       "4                    40.9               1.0  q1_q17_dr25_tce   \n",
       "\n",
       "   StellarEffectiveTemperature_K  StellarEffectiveTemp_Lower  \\\n",
       "0                         5455.0                        81.0   \n",
       "1                         5455.0                        81.0   \n",
       "2                         5853.0                       158.0   \n",
       "3                         5805.0                       157.0   \n",
       "4                         6031.0                       169.0   \n",
       "\n",
       "   StellarEffectiveTemp_Upper  StellarSurfaceGravity  \\\n",
       "0                       -81.0                  4.467   \n",
       "1                       -81.0                  4.467   \n",
       "2                      -176.0                  4.544   \n",
       "3                      -174.0                  4.564   \n",
       "4                      -211.0                  4.438   \n",
       "\n",
       "   Stellar_SurfaceGravity_Lower  Stellar_SurfaceGravity_Upper  \\\n",
       "0                         0.064                        -0.096   \n",
       "1                         0.064                        -0.096   \n",
       "2                         0.044                        -0.176   \n",
       "3                         0.053                        -0.168   \n",
       "4                         0.070                        -0.210   \n",
       "\n",
       "   StellarRadius_Solarradii  StellarRadius_Lower  StellarRadius_Upper  \\\n",
       "0                     0.927                0.105               -0.061   \n",
       "1                     0.927                0.105               -0.061   \n",
       "2                     0.868                0.233               -0.078   \n",
       "3                     0.791                0.201               -0.067   \n",
       "4                     1.046                0.334               -0.133   \n",
       "\n",
       "      RA_deg    Dec_deg  Kepler_band[mag]  \n",
       "0  291.93423  48.141651            15.347  \n",
       "1  291.93423  48.141651            15.347  \n",
       "2  297.00482  48.134129            15.436  \n",
       "3  285.53461  48.285210            15.597  \n",
       "4  288.75488  48.226200            15.509  "
      ]
     },
     "execution_count": 7,
     "metadata": {},
     "output_type": "execute_result"
    }
   ],
   "source": [
    "df.head()"
   ]
  },
  {
   "cell_type": "code",
   "execution_count": 8,
   "metadata": {
    "execution": {
     "iopub.execute_input": "2022-11-15T17:38:29.188641Z",
     "iopub.status.busy": "2022-11-15T17:38:29.187874Z",
     "iopub.status.idle": "2022-11-15T17:38:29.2196Z",
     "shell.execute_reply": "2022-11-15T17:38:29.21837Z",
     "shell.execute_reply.started": "2022-11-15T17:38:29.188563Z"
    }
   },
   "outputs": [
    {
     "name": "stdout",
     "output_type": "stream",
     "text": [
      "<class 'pandas.core.frame.DataFrame'>\n",
      "RangeIndex: 9564 entries, 0 to 9563\n",
      "Data columns (total 50 columns):\n",
      " #   Column                                      Non-Null Count  Dtype  \n",
      "---  ------                                      --------------  -----  \n",
      " 0   rowid                                       9564 non-null   int64  \n",
      " 1   KepID                                       9564 non-null   int64  \n",
      " 2   KOIName                                     9564 non-null   object \n",
      " 3   KeplerName                                  2294 non-null   object \n",
      " 4   Exoplanet_Archive_Disposition               9564 non-null   object \n",
      " 5   Disposition_Using_KeplerData                9564 non-null   object \n",
      " 6   DispositionScore                            8054 non-null   float64\n",
      " 7   NotTransit_LikeFPFlag                       9564 non-null   int64  \n",
      " 8   StellarEclipse_FP_Flag                      9564 non-null   int64  \n",
      " 9   CentroidOffsetFPFlag                        9564 non-null   int64  \n",
      " 10  EphemerisMatchIndicatesContaminationFPFlag  9564 non-null   int64  \n",
      " 11  OrbitalPeriod_days                          9564 non-null   float64\n",
      " 12  OrbitalPeriodUpper_days                     9110 non-null   float64\n",
      " 13  OrbitalPeriodLower_days                     9110 non-null   float64\n",
      " 14  TransitEpoch_BKJD                           9564 non-null   float64\n",
      " 15  TransitEpoch_Lower                          9110 non-null   float64\n",
      " 16  TransitEpoch_Upper                          9110 non-null   float64\n",
      " 17  ImpactParamete                              9201 non-null   float64\n",
      " 18  ImpactParameter_Lower                       9110 non-null   float64\n",
      " 19  ImpactParameter_Upper                       9110 non-null   float64\n",
      " 20  TransitDuration_hrs                         9564 non-null   float64\n",
      " 21  TransitDuration_Lower                       9110 non-null   float64\n",
      " 22  TransitDuration_Upper                       9110 non-null   float64\n",
      " 23  TransitDepth_ppm                            9201 non-null   float64\n",
      " 24  TransitDepth_Lower                          9110 non-null   float64\n",
      " 25  TransitDepth_Upper                          9110 non-null   float64\n",
      " 26  PlanetaryRadius_Earthradii                  9201 non-null   float64\n",
      " 27  PlanetaryRadius_Lower                       9201 non-null   float64\n",
      " 28  PlanetaryRadius_Upper                       9201 non-null   float64\n",
      " 29  EquilibriumTemperature_K                    9201 non-null   float64\n",
      " 30  EquilibriumTemperature_Lower                0 non-null      float64\n",
      " 31  EquilibriumTemperature_Upper                0 non-null      float64\n",
      " 32  InsolationFlux_Earthflux                    9243 non-null   float64\n",
      " 33  InsolationFlux_Lower                        9243 non-null   float64\n",
      " 34  InsolationFlux_Upper                        9243 non-null   float64\n",
      " 35  TransitSignal_to_Noise                      9201 non-null   float64\n",
      " 36  TCE_PlanetNumber                            9218 non-null   float64\n",
      " 37  TCE_DeliverName                             9218 non-null   object \n",
      " 38  StellarEffectiveTemperature_K               9201 non-null   float64\n",
      " 39  StellarEffectiveTemp_Lower                  9096 non-null   float64\n",
      " 40  StellarEffectiveTemp_Upper                  9081 non-null   float64\n",
      " 41  StellarSurfaceGravity                       9201 non-null   float64\n",
      " 42  Stellar_SurfaceGravity_Lower                9096 non-null   float64\n",
      " 43  Stellar_SurfaceGravity_Upper                9096 non-null   float64\n",
      " 44  StellarRadius_Solarradii                    9201 non-null   float64\n",
      " 45  StellarRadius_Lower                         9096 non-null   float64\n",
      " 46  StellarRadius_Upper                         9096 non-null   float64\n",
      " 47  RA_deg                                      9564 non-null   float64\n",
      " 48  Dec_deg                                     9564 non-null   float64\n",
      " 49  Kepler_band[mag]                            9563 non-null   float64\n",
      "dtypes: float64(39), int64(6), object(5)\n",
      "memory usage: 3.6+ MB\n"
     ]
    }
   ],
   "source": [
    "df.info()"
   ]
  },
  {
   "cell_type": "markdown",
   "metadata": {},
   "source": [
    "#### Comments:\n",
    "\n",
    "- This info reflects that there are some null values and few are completely empty ('EquilibriumTemperature_err1','EquilibriumTemperature_err2') so we can just remove them. \n",
    "- And most of the features are numerical so let's first look the cate gorical features in breif."
   ]
  },
  {
   "cell_type": "markdown",
   "metadata": {},
   "source": [
    "### Handling Missing Values"
   ]
  },
  {
   "cell_type": "code",
   "execution_count": 9,
   "metadata": {
    "execution": {
     "iopub.execute_input": "2022-11-15T17:38:29.221154Z",
     "iopub.status.busy": "2022-11-15T17:38:29.220829Z",
     "iopub.status.idle": "2022-11-15T17:38:29.233492Z",
     "shell.execute_reply": "2022-11-15T17:38:29.232118Z",
     "shell.execute_reply.started": "2022-11-15T17:38:29.221124Z"
    }
   },
   "outputs": [
    {
     "data": {
      "text/plain": [
       "rowid                                            0\n",
       "KepID                                            0\n",
       "KOIName                                          0\n",
       "KeplerName                                    7270\n",
       "Exoplanet_Archive_Disposition                    0\n",
       "Disposition_Using_KeplerData                     0\n",
       "DispositionScore                              1510\n",
       "NotTransit_LikeFPFlag                            0\n",
       "StellarEclipse_FP_Flag                           0\n",
       "CentroidOffsetFPFlag                             0\n",
       "EphemerisMatchIndicatesContaminationFPFlag       0\n",
       "OrbitalPeriod_days                               0\n",
       "OrbitalPeriodUpper_days                        454\n",
       "OrbitalPeriodLower_days                        454\n",
       "TransitEpoch_BKJD                                0\n",
       "TransitEpoch_Lower                             454\n",
       "TransitEpoch_Upper                             454\n",
       "ImpactParamete                                 363\n",
       "ImpactParameter_Lower                          454\n",
       "ImpactParameter_Upper                          454\n",
       "TransitDuration_hrs                              0\n",
       "TransitDuration_Lower                          454\n",
       "TransitDuration_Upper                          454\n",
       "TransitDepth_ppm                               363\n",
       "TransitDepth_Lower                             454\n",
       "TransitDepth_Upper                             454\n",
       "PlanetaryRadius_Earthradii                     363\n",
       "PlanetaryRadius_Lower                          363\n",
       "PlanetaryRadius_Upper                          363\n",
       "EquilibriumTemperature_K                       363\n",
       "EquilibriumTemperature_Lower                  9564\n",
       "EquilibriumTemperature_Upper                  9564\n",
       "InsolationFlux_Earthflux                       321\n",
       "InsolationFlux_Lower                           321\n",
       "InsolationFlux_Upper                           321\n",
       "TransitSignal_to_Noise                         363\n",
       "TCE_PlanetNumber                               346\n",
       "TCE_DeliverName                                346\n",
       "StellarEffectiveTemperature_K                  363\n",
       "StellarEffectiveTemp_Lower                     468\n",
       "StellarEffectiveTemp_Upper                     483\n",
       "StellarSurfaceGravity                          363\n",
       "Stellar_SurfaceGravity_Lower                   468\n",
       "Stellar_SurfaceGravity_Upper                   468\n",
       "StellarRadius_Solarradii                       363\n",
       "StellarRadius_Lower                            468\n",
       "StellarRadius_Upper                            468\n",
       "RA_deg                                           0\n",
       "Dec_deg                                          0\n",
       "Kepler_band[mag]                                 1\n",
       "dtype: int64"
      ]
     },
     "execution_count": 9,
     "metadata": {},
     "output_type": "execute_result"
    }
   ],
   "source": [
    "#Checking for missing values\n",
    "\n",
    "df.isnull().sum()"
   ]
  },
  {
   "cell_type": "markdown",
   "metadata": {},
   "source": [
    "#### Comments:\n",
    "\n",
    "-   We can drop the features 'EquilibriumTemperature_err1','EquilibriumTemperature_err2','KeplerName' as most of the values are missing.\n",
    "- we can impute other null values with mean."
   ]
  },
  {
   "cell_type": "code",
   "execution_count": 10,
   "metadata": {
    "execution": {
     "iopub.execute_input": "2022-11-15T17:38:29.238213Z",
     "iopub.status.busy": "2022-11-15T17:38:29.237846Z",
     "iopub.status.idle": "2022-11-15T17:38:29.251772Z",
     "shell.execute_reply": "2022-11-15T17:38:29.25016Z",
     "shell.execute_reply.started": "2022-11-15T17:38:29.238183Z"
    }
   },
   "outputs": [
    {
     "data": {
      "text/plain": [
       "q1_q17_dr25_tce    8054\n",
       "q1_q16_tce          796\n",
       "q1_q17_dr24_tce     368\n",
       "Name: TCE_DeliverName, dtype: int64"
      ]
     },
     "execution_count": 10,
     "metadata": {},
     "output_type": "execute_result"
    }
   ],
   "source": [
    "df['TCE_DeliverName'].value_counts()"
   ]
  },
  {
   "cell_type": "markdown",
   "metadata": {},
   "source": [
    "#### Comments:\n",
    "- We can see that the column 'TCE_DeliverName' has almost all the values assigned to a single category so it is not going to contribute much in model training so we gonna drop it."
   ]
  },
  {
   "cell_type": "code",
   "execution_count": 11,
   "metadata": {
    "execution": {
     "iopub.execute_input": "2022-11-15T17:38:29.253556Z",
     "iopub.status.busy": "2022-11-15T17:38:29.253216Z",
     "iopub.status.idle": "2022-11-15T17:38:29.265975Z",
     "shell.execute_reply": "2022-11-15T17:38:29.264414Z",
     "shell.execute_reply.started": "2022-11-15T17:38:29.253527Z"
    }
   },
   "outputs": [],
   "source": [
    "df.drop(columns=['EquilibriumTemperature_Lower','EquilibriumTemperature_Upper','KeplerName','TCE_DeliverName'],inplace=True)"
   ]
  },
  {
   "cell_type": "code",
   "execution_count": 12,
   "metadata": {
    "execution": {
     "iopub.execute_input": "2022-11-15T17:38:29.267796Z",
     "iopub.status.busy": "2022-11-15T17:38:29.267383Z",
     "iopub.status.idle": "2022-11-15T17:38:29.28213Z",
     "shell.execute_reply": "2022-11-15T17:38:29.280533Z",
     "shell.execute_reply.started": "2022-11-15T17:38:29.267763Z"
    }
   },
   "outputs": [
    {
     "name": "stdout",
     "output_type": "stream",
     "text": [
      "Categorical Features in DataSet: 3\n",
      "Index(['KOIName', 'Exoplanet_Archive_Disposition',\n",
      "       'Disposition_Using_KeplerData'],\n",
      "      dtype='object')\n"
     ]
    }
   ],
   "source": [
    "#Separiting the categorical features\n",
    "\n",
    "categorical= df.select_dtypes(include =[np.object])\n",
    "print(\"Categorical Features in DataSet:\",categorical.shape[1])\n",
    "print(categorical.columns)"
   ]
  },
  {
   "cell_type": "code",
   "execution_count": 13,
   "metadata": {
    "execution": {
     "iopub.execute_input": "2022-11-15T17:38:29.284311Z",
     "iopub.status.busy": "2022-11-15T17:38:29.283853Z",
     "iopub.status.idle": "2022-11-15T17:38:29.620673Z",
     "shell.execute_reply": "2022-11-15T17:38:29.619105Z",
     "shell.execute_reply.started": "2022-11-15T17:38:29.28427Z"
    }
   },
   "outputs": [],
   "source": [
    "# Filling the null values of numerical features with the respective mean\n",
    "\n",
    "numerical=df.select_dtypes(include =[np.float64,np.int64])\n",
    "\n",
    "from sklearn.impute import SimpleImputer\n",
    "\n",
    "imputer= SimpleImputer(strategy='mean')\n",
    "df_numerical=imputer.fit_transform(numerical)\n",
    "\n",
    "df_numerical=pd.DataFrame(df_numerical,columns=numerical.columns)"
   ]
  },
  {
   "cell_type": "markdown",
   "metadata": {},
   "source": [
    "#### Let's now concatenate the both numerical and categorical data"
   ]
  },
  {
   "cell_type": "code",
   "execution_count": 14,
   "metadata": {
    "execution": {
     "iopub.execute_input": "2022-11-15T17:38:29.623117Z",
     "iopub.status.busy": "2022-11-15T17:38:29.622352Z",
     "iopub.status.idle": "2022-11-15T17:38:29.63223Z",
     "shell.execute_reply": "2022-11-15T17:38:29.630718Z",
     "shell.execute_reply.started": "2022-11-15T17:38:29.623068Z"
    }
   },
   "outputs": [],
   "source": [
    "df= pd.concat([df_numerical,categorical],axis=1)"
   ]
  },
  {
   "cell_type": "code",
   "execution_count": 15,
   "metadata": {
    "execution": {
     "iopub.execute_input": "2022-11-15T17:38:29.634919Z",
     "iopub.status.busy": "2022-11-15T17:38:29.634472Z",
     "iopub.status.idle": "2022-11-15T17:38:29.703485Z",
     "shell.execute_reply": "2022-11-15T17:38:29.702109Z",
     "shell.execute_reply.started": "2022-11-15T17:38:29.634882Z"
    }
   },
   "outputs": [
    {
     "data": {
      "text/html": [
       "<div>\n",
       "<style scoped>\n",
       "    .dataframe tbody tr th:only-of-type {\n",
       "        vertical-align: middle;\n",
       "    }\n",
       "\n",
       "    .dataframe tbody tr th {\n",
       "        vertical-align: top;\n",
       "    }\n",
       "\n",
       "    .dataframe thead th {\n",
       "        text-align: right;\n",
       "    }\n",
       "</style>\n",
       "<table border=\"1\" class=\"dataframe\">\n",
       "  <thead>\n",
       "    <tr style=\"text-align: right;\">\n",
       "      <th></th>\n",
       "      <th>rowid</th>\n",
       "      <th>KepID</th>\n",
       "      <th>DispositionScore</th>\n",
       "      <th>NotTransit_LikeFPFlag</th>\n",
       "      <th>StellarEclipse_FP_Flag</th>\n",
       "      <th>CentroidOffsetFPFlag</th>\n",
       "      <th>EphemerisMatchIndicatesContaminationFPFlag</th>\n",
       "      <th>OrbitalPeriod_days</th>\n",
       "      <th>OrbitalPeriodUpper_days</th>\n",
       "      <th>OrbitalPeriodLower_days</th>\n",
       "      <th>TransitEpoch_BKJD</th>\n",
       "      <th>TransitEpoch_Lower</th>\n",
       "      <th>TransitEpoch_Upper</th>\n",
       "      <th>ImpactParamete</th>\n",
       "      <th>ImpactParameter_Lower</th>\n",
       "      <th>ImpactParameter_Upper</th>\n",
       "      <th>TransitDuration_hrs</th>\n",
       "      <th>TransitDuration_Lower</th>\n",
       "      <th>TransitDuration_Upper</th>\n",
       "      <th>TransitDepth_ppm</th>\n",
       "      <th>TransitDepth_Lower</th>\n",
       "      <th>TransitDepth_Upper</th>\n",
       "      <th>PlanetaryRadius_Earthradii</th>\n",
       "      <th>PlanetaryRadius_Lower</th>\n",
       "      <th>PlanetaryRadius_Upper</th>\n",
       "      <th>EquilibriumTemperature_K</th>\n",
       "      <th>InsolationFlux_Earthflux</th>\n",
       "      <th>InsolationFlux_Lower</th>\n",
       "      <th>InsolationFlux_Upper</th>\n",
       "      <th>TransitSignal_to_Noise</th>\n",
       "      <th>TCE_PlanetNumber</th>\n",
       "      <th>StellarEffectiveTemperature_K</th>\n",
       "      <th>StellarEffectiveTemp_Lower</th>\n",
       "      <th>StellarEffectiveTemp_Upper</th>\n",
       "      <th>StellarSurfaceGravity</th>\n",
       "      <th>Stellar_SurfaceGravity_Lower</th>\n",
       "      <th>Stellar_SurfaceGravity_Upper</th>\n",
       "      <th>StellarRadius_Solarradii</th>\n",
       "      <th>StellarRadius_Lower</th>\n",
       "      <th>StellarRadius_Upper</th>\n",
       "      <th>RA_deg</th>\n",
       "      <th>Dec_deg</th>\n",
       "      <th>Kepler_band[mag]</th>\n",
       "      <th>KOIName</th>\n",
       "      <th>Exoplanet_Archive_Disposition</th>\n",
       "      <th>Disposition_Using_KeplerData</th>\n",
       "    </tr>\n",
       "  </thead>\n",
       "  <tbody>\n",
       "    <tr>\n",
       "      <th>0</th>\n",
       "      <td>1.0</td>\n",
       "      <td>10797460.0</td>\n",
       "      <td>1.000</td>\n",
       "      <td>0.0</td>\n",
       "      <td>0.0</td>\n",
       "      <td>0.0</td>\n",
       "      <td>0.0</td>\n",
       "      <td>9.488036</td>\n",
       "      <td>2.775000e-05</td>\n",
       "      <td>-2.775000e-05</td>\n",
       "      <td>170.538750</td>\n",
       "      <td>0.002160</td>\n",
       "      <td>-0.002160</td>\n",
       "      <td>0.146</td>\n",
       "      <td>0.318</td>\n",
       "      <td>-0.146</td>\n",
       "      <td>2.95750</td>\n",
       "      <td>0.08190</td>\n",
       "      <td>-0.08190</td>\n",
       "      <td>615.8</td>\n",
       "      <td>19.5</td>\n",
       "      <td>-19.5</td>\n",
       "      <td>2.26</td>\n",
       "      <td>0.26</td>\n",
       "      <td>-0.15</td>\n",
       "      <td>793.0</td>\n",
       "      <td>93.59</td>\n",
       "      <td>29.45</td>\n",
       "      <td>-16.65</td>\n",
       "      <td>35.8</td>\n",
       "      <td>1.0</td>\n",
       "      <td>5455.0</td>\n",
       "      <td>81.0</td>\n",
       "      <td>-81.0</td>\n",
       "      <td>4.467</td>\n",
       "      <td>0.064</td>\n",
       "      <td>-0.096</td>\n",
       "      <td>0.927</td>\n",
       "      <td>0.105</td>\n",
       "      <td>-0.061</td>\n",
       "      <td>291.93423</td>\n",
       "      <td>48.141651</td>\n",
       "      <td>15.347</td>\n",
       "      <td>K00752.01</td>\n",
       "      <td>CONFIRMED</td>\n",
       "      <td>CANDIDATE</td>\n",
       "    </tr>\n",
       "    <tr>\n",
       "      <th>1</th>\n",
       "      <td>2.0</td>\n",
       "      <td>10797460.0</td>\n",
       "      <td>0.969</td>\n",
       "      <td>0.0</td>\n",
       "      <td>0.0</td>\n",
       "      <td>0.0</td>\n",
       "      <td>0.0</td>\n",
       "      <td>54.418383</td>\n",
       "      <td>2.479000e-04</td>\n",
       "      <td>-2.479000e-04</td>\n",
       "      <td>162.513840</td>\n",
       "      <td>0.003520</td>\n",
       "      <td>-0.003520</td>\n",
       "      <td>0.586</td>\n",
       "      <td>0.059</td>\n",
       "      <td>-0.443</td>\n",
       "      <td>4.50700</td>\n",
       "      <td>0.11600</td>\n",
       "      <td>-0.11600</td>\n",
       "      <td>874.8</td>\n",
       "      <td>35.5</td>\n",
       "      <td>-35.5</td>\n",
       "      <td>2.83</td>\n",
       "      <td>0.32</td>\n",
       "      <td>-0.19</td>\n",
       "      <td>443.0</td>\n",
       "      <td>9.11</td>\n",
       "      <td>2.87</td>\n",
       "      <td>-1.62</td>\n",
       "      <td>25.8</td>\n",
       "      <td>2.0</td>\n",
       "      <td>5455.0</td>\n",
       "      <td>81.0</td>\n",
       "      <td>-81.0</td>\n",
       "      <td>4.467</td>\n",
       "      <td>0.064</td>\n",
       "      <td>-0.096</td>\n",
       "      <td>0.927</td>\n",
       "      <td>0.105</td>\n",
       "      <td>-0.061</td>\n",
       "      <td>291.93423</td>\n",
       "      <td>48.141651</td>\n",
       "      <td>15.347</td>\n",
       "      <td>K00752.02</td>\n",
       "      <td>CONFIRMED</td>\n",
       "      <td>CANDIDATE</td>\n",
       "    </tr>\n",
       "    <tr>\n",
       "      <th>2</th>\n",
       "      <td>3.0</td>\n",
       "      <td>10811496.0</td>\n",
       "      <td>0.000</td>\n",
       "      <td>0.0</td>\n",
       "      <td>1.0</td>\n",
       "      <td>0.0</td>\n",
       "      <td>0.0</td>\n",
       "      <td>19.899140</td>\n",
       "      <td>1.494000e-05</td>\n",
       "      <td>-1.494000e-05</td>\n",
       "      <td>175.850252</td>\n",
       "      <td>0.000581</td>\n",
       "      <td>-0.000581</td>\n",
       "      <td>0.969</td>\n",
       "      <td>5.126</td>\n",
       "      <td>-0.077</td>\n",
       "      <td>1.78220</td>\n",
       "      <td>0.03410</td>\n",
       "      <td>-0.03410</td>\n",
       "      <td>10829.0</td>\n",
       "      <td>171.0</td>\n",
       "      <td>-171.0</td>\n",
       "      <td>14.60</td>\n",
       "      <td>3.92</td>\n",
       "      <td>-1.31</td>\n",
       "      <td>638.0</td>\n",
       "      <td>39.30</td>\n",
       "      <td>31.04</td>\n",
       "      <td>-10.49</td>\n",
       "      <td>76.3</td>\n",
       "      <td>1.0</td>\n",
       "      <td>5853.0</td>\n",
       "      <td>158.0</td>\n",
       "      <td>-176.0</td>\n",
       "      <td>4.544</td>\n",
       "      <td>0.044</td>\n",
       "      <td>-0.176</td>\n",
       "      <td>0.868</td>\n",
       "      <td>0.233</td>\n",
       "      <td>-0.078</td>\n",
       "      <td>297.00482</td>\n",
       "      <td>48.134129</td>\n",
       "      <td>15.436</td>\n",
       "      <td>K00753.01</td>\n",
       "      <td>FALSE POSITIVE</td>\n",
       "      <td>FALSE POSITIVE</td>\n",
       "    </tr>\n",
       "    <tr>\n",
       "      <th>3</th>\n",
       "      <td>4.0</td>\n",
       "      <td>10848459.0</td>\n",
       "      <td>0.000</td>\n",
       "      <td>0.0</td>\n",
       "      <td>1.0</td>\n",
       "      <td>0.0</td>\n",
       "      <td>0.0</td>\n",
       "      <td>1.736952</td>\n",
       "      <td>2.630000e-07</td>\n",
       "      <td>-2.630000e-07</td>\n",
       "      <td>170.307565</td>\n",
       "      <td>0.000115</td>\n",
       "      <td>-0.000115</td>\n",
       "      <td>1.276</td>\n",
       "      <td>0.115</td>\n",
       "      <td>-0.092</td>\n",
       "      <td>2.40641</td>\n",
       "      <td>0.00537</td>\n",
       "      <td>-0.00537</td>\n",
       "      <td>8079.2</td>\n",
       "      <td>12.8</td>\n",
       "      <td>-12.8</td>\n",
       "      <td>33.46</td>\n",
       "      <td>8.50</td>\n",
       "      <td>-2.83</td>\n",
       "      <td>1395.0</td>\n",
       "      <td>891.96</td>\n",
       "      <td>668.95</td>\n",
       "      <td>-230.35</td>\n",
       "      <td>505.6</td>\n",
       "      <td>1.0</td>\n",
       "      <td>5805.0</td>\n",
       "      <td>157.0</td>\n",
       "      <td>-174.0</td>\n",
       "      <td>4.564</td>\n",
       "      <td>0.053</td>\n",
       "      <td>-0.168</td>\n",
       "      <td>0.791</td>\n",
       "      <td>0.201</td>\n",
       "      <td>-0.067</td>\n",
       "      <td>285.53461</td>\n",
       "      <td>48.285210</td>\n",
       "      <td>15.597</td>\n",
       "      <td>K00754.01</td>\n",
       "      <td>FALSE POSITIVE</td>\n",
       "      <td>FALSE POSITIVE</td>\n",
       "    </tr>\n",
       "    <tr>\n",
       "      <th>4</th>\n",
       "      <td>5.0</td>\n",
       "      <td>10854555.0</td>\n",
       "      <td>1.000</td>\n",
       "      <td>0.0</td>\n",
       "      <td>0.0</td>\n",
       "      <td>0.0</td>\n",
       "      <td>0.0</td>\n",
       "      <td>2.525592</td>\n",
       "      <td>3.761000e-06</td>\n",
       "      <td>-3.761000e-06</td>\n",
       "      <td>171.595550</td>\n",
       "      <td>0.001130</td>\n",
       "      <td>-0.001130</td>\n",
       "      <td>0.701</td>\n",
       "      <td>0.235</td>\n",
       "      <td>-0.478</td>\n",
       "      <td>1.65450</td>\n",
       "      <td>0.04200</td>\n",
       "      <td>-0.04200</td>\n",
       "      <td>603.3</td>\n",
       "      <td>16.9</td>\n",
       "      <td>-16.9</td>\n",
       "      <td>2.75</td>\n",
       "      <td>0.88</td>\n",
       "      <td>-0.35</td>\n",
       "      <td>1406.0</td>\n",
       "      <td>926.16</td>\n",
       "      <td>874.33</td>\n",
       "      <td>-314.24</td>\n",
       "      <td>40.9</td>\n",
       "      <td>1.0</td>\n",
       "      <td>6031.0</td>\n",
       "      <td>169.0</td>\n",
       "      <td>-211.0</td>\n",
       "      <td>4.438</td>\n",
       "      <td>0.070</td>\n",
       "      <td>-0.210</td>\n",
       "      <td>1.046</td>\n",
       "      <td>0.334</td>\n",
       "      <td>-0.133</td>\n",
       "      <td>288.75488</td>\n",
       "      <td>48.226200</td>\n",
       "      <td>15.509</td>\n",
       "      <td>K00755.01</td>\n",
       "      <td>CONFIRMED</td>\n",
       "      <td>CANDIDATE</td>\n",
       "    </tr>\n",
       "  </tbody>\n",
       "</table>\n",
       "</div>"
      ],
      "text/plain": [
       "   rowid       KepID  DispositionScore  NotTransit_LikeFPFlag  \\\n",
       "0    1.0  10797460.0             1.000                    0.0   \n",
       "1    2.0  10797460.0             0.969                    0.0   \n",
       "2    3.0  10811496.0             0.000                    0.0   \n",
       "3    4.0  10848459.0             0.000                    0.0   \n",
       "4    5.0  10854555.0             1.000                    0.0   \n",
       "\n",
       "   StellarEclipse_FP_Flag  CentroidOffsetFPFlag  \\\n",
       "0                     0.0                   0.0   \n",
       "1                     0.0                   0.0   \n",
       "2                     1.0                   0.0   \n",
       "3                     1.0                   0.0   \n",
       "4                     0.0                   0.0   \n",
       "\n",
       "   EphemerisMatchIndicatesContaminationFPFlag  OrbitalPeriod_days  \\\n",
       "0                                         0.0            9.488036   \n",
       "1                                         0.0           54.418383   \n",
       "2                                         0.0           19.899140   \n",
       "3                                         0.0            1.736952   \n",
       "4                                         0.0            2.525592   \n",
       "\n",
       "   OrbitalPeriodUpper_days  OrbitalPeriodLower_days  TransitEpoch_BKJD  \\\n",
       "0             2.775000e-05            -2.775000e-05         170.538750   \n",
       "1             2.479000e-04            -2.479000e-04         162.513840   \n",
       "2             1.494000e-05            -1.494000e-05         175.850252   \n",
       "3             2.630000e-07            -2.630000e-07         170.307565   \n",
       "4             3.761000e-06            -3.761000e-06         171.595550   \n",
       "\n",
       "   TransitEpoch_Lower  TransitEpoch_Upper  ImpactParamete  \\\n",
       "0            0.002160           -0.002160           0.146   \n",
       "1            0.003520           -0.003520           0.586   \n",
       "2            0.000581           -0.000581           0.969   \n",
       "3            0.000115           -0.000115           1.276   \n",
       "4            0.001130           -0.001130           0.701   \n",
       "\n",
       "   ImpactParameter_Lower  ImpactParameter_Upper  TransitDuration_hrs  \\\n",
       "0                  0.318                 -0.146              2.95750   \n",
       "1                  0.059                 -0.443              4.50700   \n",
       "2                  5.126                 -0.077              1.78220   \n",
       "3                  0.115                 -0.092              2.40641   \n",
       "4                  0.235                 -0.478              1.65450   \n",
       "\n",
       "   TransitDuration_Lower  TransitDuration_Upper  TransitDepth_ppm  \\\n",
       "0                0.08190               -0.08190             615.8   \n",
       "1                0.11600               -0.11600             874.8   \n",
       "2                0.03410               -0.03410           10829.0   \n",
       "3                0.00537               -0.00537            8079.2   \n",
       "4                0.04200               -0.04200             603.3   \n",
       "\n",
       "   TransitDepth_Lower  TransitDepth_Upper  PlanetaryRadius_Earthradii  \\\n",
       "0                19.5               -19.5                        2.26   \n",
       "1                35.5               -35.5                        2.83   \n",
       "2               171.0              -171.0                       14.60   \n",
       "3                12.8               -12.8                       33.46   \n",
       "4                16.9               -16.9                        2.75   \n",
       "\n",
       "   PlanetaryRadius_Lower  PlanetaryRadius_Upper  EquilibriumTemperature_K  \\\n",
       "0                   0.26                  -0.15                     793.0   \n",
       "1                   0.32                  -0.19                     443.0   \n",
       "2                   3.92                  -1.31                     638.0   \n",
       "3                   8.50                  -2.83                    1395.0   \n",
       "4                   0.88                  -0.35                    1406.0   \n",
       "\n",
       "   InsolationFlux_Earthflux  InsolationFlux_Lower  InsolationFlux_Upper  \\\n",
       "0                     93.59                 29.45                -16.65   \n",
       "1                      9.11                  2.87                 -1.62   \n",
       "2                     39.30                 31.04                -10.49   \n",
       "3                    891.96                668.95               -230.35   \n",
       "4                    926.16                874.33               -314.24   \n",
       "\n",
       "   TransitSignal_to_Noise  TCE_PlanetNumber  StellarEffectiveTemperature_K  \\\n",
       "0                    35.8               1.0                         5455.0   \n",
       "1                    25.8               2.0                         5455.0   \n",
       "2                    76.3               1.0                         5853.0   \n",
       "3                   505.6               1.0                         5805.0   \n",
       "4                    40.9               1.0                         6031.0   \n",
       "\n",
       "   StellarEffectiveTemp_Lower  StellarEffectiveTemp_Upper  \\\n",
       "0                        81.0                       -81.0   \n",
       "1                        81.0                       -81.0   \n",
       "2                       158.0                      -176.0   \n",
       "3                       157.0                      -174.0   \n",
       "4                       169.0                      -211.0   \n",
       "\n",
       "   StellarSurfaceGravity  Stellar_SurfaceGravity_Lower  \\\n",
       "0                  4.467                         0.064   \n",
       "1                  4.467                         0.064   \n",
       "2                  4.544                         0.044   \n",
       "3                  4.564                         0.053   \n",
       "4                  4.438                         0.070   \n",
       "\n",
       "   Stellar_SurfaceGravity_Upper  StellarRadius_Solarradii  \\\n",
       "0                        -0.096                     0.927   \n",
       "1                        -0.096                     0.927   \n",
       "2                        -0.176                     0.868   \n",
       "3                        -0.168                     0.791   \n",
       "4                        -0.210                     1.046   \n",
       "\n",
       "   StellarRadius_Lower  StellarRadius_Upper     RA_deg    Dec_deg  \\\n",
       "0                0.105               -0.061  291.93423  48.141651   \n",
       "1                0.105               -0.061  291.93423  48.141651   \n",
       "2                0.233               -0.078  297.00482  48.134129   \n",
       "3                0.201               -0.067  285.53461  48.285210   \n",
       "4                0.334               -0.133  288.75488  48.226200   \n",
       "\n",
       "   Kepler_band[mag]    KOIName Exoplanet_Archive_Disposition  \\\n",
       "0            15.347  K00752.01                     CONFIRMED   \n",
       "1            15.347  K00752.02                     CONFIRMED   \n",
       "2            15.436  K00753.01                FALSE POSITIVE   \n",
       "3            15.597  K00754.01                FALSE POSITIVE   \n",
       "4            15.509  K00755.01                     CONFIRMED   \n",
       "\n",
       "  Disposition_Using_KeplerData  \n",
       "0                    CANDIDATE  \n",
       "1                    CANDIDATE  \n",
       "2               FALSE POSITIVE  \n",
       "3               FALSE POSITIVE  \n",
       "4                    CANDIDATE  "
      ]
     },
     "execution_count": 15,
     "metadata": {},
     "output_type": "execute_result"
    }
   ],
   "source": [
    "df.head()"
   ]
  },
  {
   "cell_type": "markdown",
   "metadata": {},
   "source": [
    "### Now let's determine the target variable to set the objective of this project."
   ]
  },
  {
   "cell_type": "markdown",
   "metadata": {},
   "source": [
    "#### 'Exoplanet_Archive_Disposition' and 'Disposition_Using_KeplerData' are the two important feature that could be our output variable.\n",
    "##### Let us study these two features in detail.\n"
   ]
  },
  {
   "cell_type": "markdown",
   "metadata": {},
   "source": [
    "##### Exoplanet_Archive_Disposition"
   ]
  },
  {
   "cell_type": "code",
   "execution_count": 16,
   "metadata": {
    "execution": {
     "iopub.execute_input": "2022-11-15T17:38:29.706201Z",
     "iopub.status.busy": "2022-11-15T17:38:29.705765Z",
     "iopub.status.idle": "2022-11-15T17:38:29.718135Z",
     "shell.execute_reply": "2022-11-15T17:38:29.716737Z",
     "shell.execute_reply.started": "2022-11-15T17:38:29.70616Z"
    }
   },
   "outputs": [
    {
     "data": {
      "text/plain": [
       "FALSE POSITIVE    5023\n",
       "CONFIRMED         2293\n",
       "CANDIDATE         2248\n",
       "Name: Exoplanet_Archive_Disposition, dtype: int64"
      ]
     },
     "execution_count": 16,
     "metadata": {},
     "output_type": "execute_result"
    }
   ],
   "source": [
    "df['Exoplanet_Archive_Disposition'].value_counts()"
   ]
  },
  {
   "cell_type": "code",
   "execution_count": 17,
   "metadata": {
    "execution": {
     "iopub.execute_input": "2022-11-15T17:38:29.720944Z",
     "iopub.status.busy": "2022-11-15T17:38:29.720459Z",
     "iopub.status.idle": "2022-11-15T17:38:29.98839Z",
     "shell.execute_reply": "2022-11-15T17:38:29.987296Z",
     "shell.execute_reply.started": "2022-11-15T17:38:29.7209Z"
    }
   },
   "outputs": [
    {
     "data": {
      "text/plain": [
       "<AxesSubplot:xlabel='Exoplanet_Archive_Disposition', ylabel='count'>"
      ]
     },
     "execution_count": 17,
     "metadata": {},
     "output_type": "execute_result"
    },
    {
     "data": {
      "image/png": "[encoded data removed]",
      "text/plain": [
       "<Figure size 432x288 with 1 Axes>"
      ]
     },
     "metadata": {
      "needs_background": "light"
     },
     "output_type": "display_data"
    }
   ],
   "source": [
    "sns.countplot(df['Exoplanet_Archive_Disposition'],palette='winter_r')"
   ]
  },
  {
   "cell_type": "markdown",
   "metadata": {},
   "source": [
    "#### Comments:\n",
    "\n",
    "- This feature represents the category of a KOI from the Exoplanet Archive and it could be False Positive or Candidate or Confirmed."
   ]
  },
  {
   "cell_type": "markdown",
   "metadata": {},
   "source": [
    "##### Disposition_Using_KeplerData"
   ]
  },
  {
   "cell_type": "code",
   "execution_count": 18,
   "metadata": {
    "execution": {
     "iopub.execute_input": "2022-11-15T17:38:29.990701Z",
     "iopub.status.busy": "2022-11-15T17:38:29.990206Z",
     "iopub.status.idle": "2022-11-15T17:38:30.001573Z",
     "shell.execute_reply": "2022-11-15T17:38:30.000067Z",
     "shell.execute_reply.started": "2022-11-15T17:38:29.990656Z"
    }
   },
   "outputs": [
    {
     "data": {
      "text/plain": [
       "FALSE POSITIVE    5068\n",
       "CANDIDATE         4496\n",
       "Name: Disposition_Using_KeplerData, dtype: int64"
      ]
     },
     "execution_count": 18,
     "metadata": {},
     "output_type": "execute_result"
    }
   ],
   "source": [
    "df['Disposition_Using_KeplerData'].value_counts()"
   ]
  },
  {
   "cell_type": "code",
   "execution_count": 19,
   "metadata": {
    "execution": {
     "iopub.execute_input": "2022-11-15T17:38:30.004324Z",
     "iopub.status.busy": "2022-11-15T17:38:30.003882Z",
     "iopub.status.idle": "2022-11-15T17:38:30.220845Z",
     "shell.execute_reply": "2022-11-15T17:38:30.219417Z",
     "shell.execute_reply.started": "2022-11-15T17:38:30.004285Z"
    }
   },
   "outputs": [
    {
     "data": {
      "text/plain": [
       "<AxesSubplot:xlabel='Disposition_Using_KeplerData', ylabel='count'>"
      ]
     },
     "execution_count": 19,
     "metadata": {},
     "output_type": "execute_result"
    },
    {
     "data": {
      "image/png": "[encoded data removed]",
      "text/plain": [
       "<Figure size 432x288 with 1 Axes>"
      ]
     },
     "metadata": {
      "needs_background": "light"
     },
     "output_type": "display_data"
    }
   ],
   "source": [
    "sns.countplot(df['Disposition_Using_KeplerData'],palette='winter_r')"
   ]
  },
  {
   "cell_type": "markdown",
   "metadata": {},
   "source": [
    "#### Comments:\n",
    "\n",
    "- This feature represents the disposition done by the analysis of Kepler data. And it could be either False Positive or Candidate."
   ]
  },
  {
   "cell_type": "markdown",
   "metadata": {},
   "source": [
    "###  For this project I am going to keep 'Disposition_Using_KeplerData' as the target variable. \n",
    "### The objective of the model will be to predict the likelihood of a KOI to be a Candidate exoplanet.\n",
    "#### The ratio of the classes in the target seems to balanced so we can proceed with that."
   ]
  },
  {
   "cell_type": "markdown",
   "metadata": {},
   "source": [
    "###### Ploting the field view of kepler object of interest showing all the candidates and false positive class."
   ]
  },
  {
   "cell_type": "code",
   "execution_count": 20,
   "metadata": {
    "execution": {
     "iopub.execute_input": "2022-11-15T17:38:30.2234Z",
     "iopub.status.busy": "2022-11-15T17:38:30.222819Z",
     "iopub.status.idle": "2022-11-15T17:38:30.68168Z",
     "shell.execute_reply": "2022-11-15T17:38:30.68066Z",
     "shell.execute_reply.started": "2022-11-15T17:38:30.223347Z"
    }
   },
   "outputs": [
    {
     "data": {
      "text/plain": [
       "<matplotlib.legend.Legend at 0x2492a938d30>"
      ]
     },
     "execution_count": 20,
     "metadata": {},
     "output_type": "execute_result"
    },
    {
     "data": {
      "image/png": "[encoded data removed]",
      "text/plain": [
       "<Figure size 576x576 with 1 Axes>"
      ]
     },
     "metadata": {
      "needs_background": "light"
     },
     "output_type": "display_data"
    }
   ],
   "source": [
    "import matplotlib.pyplot as plt\n",
    "\n",
    "Candidate = df[df.Disposition_Using_KeplerData == 'CANDIDATE']\n",
    "FP = df[df.Disposition_Using_KeplerData == 'FALSE POSITIVE']\n",
    "\n",
    "ra_f, dec_f = FP.RA_deg, FP.Dec_deg\n",
    "ra_c, dec_c = Candidate.RA_deg, Candidate.Dec_deg\n",
    "\n",
    "fig = plt.figure(figsize=(8,8))\n",
    "\n",
    "plt.scatter(ra_f, dec_f, s=4, label='False Positive')\n",
    "plt.scatter(ra_c, dec_c, s=4, label=\"Candidates\")\n",
    "\n",
    "plt.xlabel(\"Right Ascension\")\n",
    "plt.ylabel(\"Declination\")\n",
    "\n",
    "plt.legend()"
   ]
  },
  {
   "cell_type": "markdown",
   "metadata": {},
   "source": [
    "##### We will now explore a bit more about the features that contributes to disposition an exoplanet Candidates from the Kepler Data."
   ]
  },
  {
   "cell_type": "markdown",
   "metadata": {},
   "source": [
    "AS we know that Kepler's objective is to study the structure and diversity of the planetary system by using transit method.\n",
    "So Now we will focus on the Transit properties to identify the exoplanets."
   ]
  },
  {
   "cell_type": "code",
   "execution_count": 21,
   "metadata": {
    "execution": {
     "iopub.execute_input": "2022-11-15T17:38:30.683861Z",
     "iopub.status.busy": "2022-11-15T17:38:30.68304Z",
     "iopub.status.idle": "2022-11-15T17:38:30.692653Z",
     "shell.execute_reply": "2022-11-15T17:38:30.691295Z",
     "shell.execute_reply.started": "2022-11-15T17:38:30.683822Z"
    }
   },
   "outputs": [],
   "source": [
    "Candidate = df[df.Disposition_Using_KeplerData == 'CANDIDATE']"
   ]
  },
  {
   "cell_type": "code",
   "execution_count": 22,
   "metadata": {
    "execution": {
     "iopub.execute_input": "2022-11-15T17:38:30.695099Z",
     "iopub.status.busy": "2022-11-15T17:38:30.693964Z",
     "iopub.status.idle": "2022-11-15T17:38:31.431874Z",
     "shell.execute_reply": "2022-11-15T17:38:31.430649Z",
     "shell.execute_reply.started": "2022-11-15T17:38:30.695043Z"
    }
   },
   "outputs": [
    {
     "data": {
      "image/png": "[encoded data removed]",
      "text/plain": [
       "<Figure size 864x576 with 3 Axes>"
      ]
     },
     "metadata": {
      "needs_background": "light"
     },
     "output_type": "display_data"
    }
   ],
   "source": [
    "Transit_Properties1=['TransitDuration_hrs','TransitDepth_ppm','OrbitalPeriod_days']\n",
    "\n",
    "target = [i for i in Transit_Properties1]\n",
    "plt.figure(figsize=(12,8))\n",
    "for n,i in enumerate(target):\n",
    "    plot=plt.subplot(2,2,n+1)\n",
    "    sns.histplot(Candidate[i],color='green',bins=10)\n",
    "    plt.title(f'{i.title()}',weight='bold')\n",
    "    plt.tight_layout()\n"
   ]
  },
  {
   "cell_type": "markdown",
   "metadata": {},
   "source": [
    "#### Comments:\n",
    " - The Transit duration for most of the candidates is less than 10 hours i.e. transit time is less which implies that possibility of the planet to be gravitationaly bound to it's host star.\n",
    " - For most of the candidate exoplanet the Transit depth is low which signifies low Stellar flux is lost during transit that implies the possibility of the planet to be closely rotating in an orbit to the host star.\n",
    " - Again Less orbital period signifies the candidate planet is at close proximity and is orbiting the host star."
   ]
  },
  {
   "cell_type": "code",
   "execution_count": 23,
   "metadata": {
    "execution": {
     "iopub.execute_input": "2022-11-15T17:38:31.433573Z",
     "iopub.status.busy": "2022-11-15T17:38:31.433253Z",
     "iopub.status.idle": "2022-11-15T17:38:31.918464Z",
     "shell.execute_reply": "2022-11-15T17:38:31.917693Z",
     "shell.execute_reply.started": "2022-11-15T17:38:31.433543Z"
    }
   },
   "outputs": [
    {
     "data": {
      "text/plain": [
       "<AxesSubplot:xlabel='TransitDepth_ppm', ylabel='TransitDuration_hrs'>"
      ]
     },
     "execution_count": 23,
     "metadata": {},
     "output_type": "execute_result"
    },
    {
     "data": {
      "image/png": "[encoded data removed]",
      "text/plain": [
       "<Figure size 432x288 with 1 Axes>"
      ]
     },
     "metadata": {
      "needs_background": "light"
     },
     "output_type": "display_data"
    }
   ],
   "source": [
    "sns.scatterplot(df['TransitDepth_ppm'],df['TransitDuration_hrs'],hue=Candidate['Disposition_Using_KeplerData'])"
   ]
  },
  {
   "cell_type": "markdown",
   "metadata": {},
   "source": [
    "- The above plot signifies that the objects that are dispositioned as Candidate have low TransitDeoth and TransitDuration."
   ]
  },
  {
   "cell_type": "markdown",
   "metadata": {},
   "source": [
    "#### Let us now prospect some attributes that contributed to confirm exoplanets in the Exoplanet_Archive_Disposition."
   ]
  },
  {
   "cell_type": "code",
   "execution_count": 24,
   "metadata": {
    "execution": {
     "iopub.execute_input": "2022-11-15T17:38:31.920837Z",
     "iopub.status.busy": "2022-11-15T17:38:31.919801Z",
     "iopub.status.idle": "2022-11-15T17:38:31.928328Z",
     "shell.execute_reply": "2022-11-15T17:38:31.927137Z",
     "shell.execute_reply.started": "2022-11-15T17:38:31.920798Z"
    }
   },
   "outputs": [],
   "source": [
    "Confirmed = df[df.Exoplanet_Archive_Disposition == 'CONFIRMED']"
   ]
  },
  {
   "cell_type": "code",
   "execution_count": 25,
   "metadata": {
    "execution": {
     "iopub.execute_input": "2022-11-15T17:38:31.932005Z",
     "iopub.status.busy": "2022-11-15T17:38:31.931629Z",
     "iopub.status.idle": "2022-11-15T17:38:32.264435Z",
     "shell.execute_reply": "2022-11-15T17:38:32.26312Z",
     "shell.execute_reply.started": "2022-11-15T17:38:31.931972Z"
    }
   },
   "outputs": [
    {
     "data": {
      "text/plain": [
       "<AxesSubplot:xlabel='EquilibriumTemperature_K', ylabel='Density'>"
      ]
     },
     "execution_count": 25,
     "metadata": {},
     "output_type": "execute_result"
    },
    {
     "data": {
      "image/png": "[encoded data removed]",
      "text/plain": [
       "<Figure size 432x288 with 1 Axes>"
      ]
     },
     "metadata": {
      "needs_background": "light"
     },
     "output_type": "display_data"
    }
   ],
   "source": [
    "sns.distplot(df['EquilibriumTemperature_K'],color='green',bins=20)"
   ]
  },
  {
   "cell_type": "markdown",
   "metadata": {},
   "source": [
    "-  for most of the confirmed exoplanets the equilibrium temperature ranges from 0-2000K approximately."
   ]
  },
  {
   "cell_type": "code",
   "execution_count": 26,
   "metadata": {
    "execution": {
     "iopub.execute_input": "2022-11-15T17:38:32.265912Z",
     "iopub.status.busy": "2022-11-15T17:38:32.265587Z",
     "iopub.status.idle": "2022-11-15T17:38:32.551449Z",
     "shell.execute_reply": "2022-11-15T17:38:32.550685Z",
     "shell.execute_reply.started": "2022-11-15T17:38:32.265884Z"
    }
   },
   "outputs": [
    {
     "data": {
      "text/plain": [
       "<AxesSubplot:xlabel='TCE_PlanetNumber', ylabel='Count'>"
      ]
     },
     "execution_count": 26,
     "metadata": {},
     "output_type": "execute_result"
    },
    {
     "data": {
      "image/png": "[encoded data removed]",
      "text/plain": [
       "<Figure size 432x288 with 1 Axes>"
      ]
     },
     "metadata": {
      "needs_background": "light"
     },
     "output_type": "display_data"
    }
   ],
   "source": [
    "sns.histplot(df['TCE_PlanetNumber'],color='green',bins=20)"
   ]
  },
  {
   "cell_type": "code",
   "execution_count": 27,
   "metadata": {
    "execution": {
     "iopub.execute_input": "2022-11-15T17:38:32.5535Z",
     "iopub.status.busy": "2022-11-15T17:38:32.552921Z",
     "iopub.status.idle": "2022-11-15T17:38:32.858053Z",
     "shell.execute_reply": "2022-11-15T17:38:32.857181Z",
     "shell.execute_reply.started": "2022-11-15T17:38:32.553468Z"
    }
   },
   "outputs": [
    {
     "data": {
      "text/plain": [
       "<AxesSubplot:xlabel='PlanetaryRadius_Earthradii'>"
      ]
     },
     "execution_count": 27,
     "metadata": {},
     "output_type": "execute_result"
    },
    {
     "data": {
      "image/png": "[encoded data removed]",
      "text/plain": [
       "<Figure size 432x288 with 1 Axes>"
      ]
     },
     "metadata": {
      "needs_background": "light"
     },
     "output_type": "display_data"
    }
   ],
   "source": [
    "sns.barplot(df['PlanetaryRadius_Earthradii'],color='green')"
   ]
  },
  {
   "cell_type": "markdown",
   "metadata": {},
   "source": [
    "- Most of the confirmed exoplanets has the radius approximately equal to 100 times the earth's radius."
   ]
  },
  {
   "cell_type": "code",
   "execution_count": 28,
   "metadata": {
    "execution": {
     "iopub.execute_input": "2022-11-15T17:38:32.86448Z",
     "iopub.status.busy": "2022-11-15T17:38:32.863764Z",
     "iopub.status.idle": "2022-11-15T17:38:32.87183Z",
     "shell.execute_reply": "2022-11-15T17:38:32.870747Z",
     "shell.execute_reply.started": "2022-11-15T17:38:32.864441Z"
    }
   },
   "outputs": [
    {
     "data": {
      "text/plain": [
       "Index(['rowid', 'KepID', 'DispositionScore', 'NotTransit_LikeFPFlag',\n",
       "       'StellarEclipse_FP_Flag', 'CentroidOffsetFPFlag',\n",
       "       'EphemerisMatchIndicatesContaminationFPFlag', 'OrbitalPeriod_days',\n",
       "       'OrbitalPeriodUpper_days', 'OrbitalPeriodLower_days',\n",
       "       'TransitEpoch_BKJD', 'TransitEpoch_Lower', 'TransitEpoch_Upper',\n",
       "       'ImpactParamete', 'ImpactParameter_Lower', 'ImpactParameter_Upper',\n",
       "       'TransitDuration_hrs', 'TransitDuration_Lower', 'TransitDuration_Upper',\n",
       "       'TransitDepth_ppm', 'TransitDepth_Lower', 'TransitDepth_Upper',\n",
       "       'PlanetaryRadius_Earthradii', 'PlanetaryRadius_Lower',\n",
       "       'PlanetaryRadius_Upper', 'EquilibriumTemperature_K',\n",
       "       'InsolationFlux_Earthflux', 'InsolationFlux_Lower',\n",
       "       'InsolationFlux_Upper', 'TransitSignal_to_Noise', 'TCE_PlanetNumber',\n",
       "       'StellarEffectiveTemperature_K', 'StellarEffectiveTemp_Lower',\n",
       "       'StellarEffectiveTemp_Upper', 'StellarSurfaceGravity',\n",
       "       'Stellar_SurfaceGravity_Lower', 'Stellar_SurfaceGravity_Upper',\n",
       "       'StellarRadius_Solarradii', 'StellarRadius_Lower',\n",
       "       'StellarRadius_Upper', 'RA_deg', 'Dec_deg', 'Kepler_band[mag]',\n",
       "       'KOIName', 'Exoplanet_Archive_Disposition',\n",
       "       'Disposition_Using_KeplerData'],\n",
       "      dtype='object')"
      ]
     },
     "execution_count": 28,
     "metadata": {},
     "output_type": "execute_result"
    }
   ],
   "source": [
    "df.columns"
   ]
  },
  {
   "cell_type": "markdown",
   "metadata": {},
   "source": [
    "##### We are going to drop few more columns.\n",
    "\n",
    "- 'rowid','KepID','KOIName', as these will not impact model performance.\n",
    "-  'InsolationFlux_Earthflux','InsolationFlux_Lower','InsolationFlux_Upper', as it is another way to give the equilibrium temperature which is already present.\n",
    "- 'StellarSurfaceGravity','Stellar_SurfaceGravity_Lower', 'Stellar_SurfaceGravity_Upper', as it's range is quite same for all the object."
   ]
  },
  {
   "cell_type": "code",
   "execution_count": 29,
   "metadata": {
    "execution": {
     "iopub.execute_input": "2022-11-15T17:38:32.873801Z",
     "iopub.status.busy": "2022-11-15T17:38:32.873369Z",
     "iopub.status.idle": "2022-11-15T17:38:32.88936Z",
     "shell.execute_reply": "2022-11-15T17:38:32.887967Z",
     "shell.execute_reply.started": "2022-11-15T17:38:32.873768Z"
    }
   },
   "outputs": [],
   "source": [
    "#Removing the unnecessary features\n",
    "\n",
    "df.drop(columns=['KepID','KOIName','InsolationFlux_Earthflux','InsolationFlux_Lower', 'InsolationFlux_Upper','StellarSurfaceGravity','Stellar_SurfaceGravity_Lower', 'Stellar_SurfaceGravity_Upper',],inplace=True)"
   ]
  },
  {
   "cell_type": "code",
   "execution_count": 30,
   "metadata": {
    "execution": {
     "iopub.execute_input": "2022-11-15T17:38:32.894397Z",
     "iopub.status.busy": "2022-11-15T17:38:32.893976Z",
     "iopub.status.idle": "2022-11-15T17:38:32.904049Z",
     "shell.execute_reply": "2022-11-15T17:38:32.902907Z",
     "shell.execute_reply.started": "2022-11-15T17:38:32.894362Z"
    }
   },
   "outputs": [
    {
     "data": {
      "text/plain": [
       "(9564, 38)"
      ]
     },
     "execution_count": 30,
     "metadata": {},
     "output_type": "execute_result"
    }
   ],
   "source": [
    "df.shape"
   ]
  },
  {
   "cell_type": "markdown",
   "metadata": {},
   "source": [
    "### Checking the correlation"
   ]
  },
  {
   "cell_type": "code",
   "execution_count": 31,
   "metadata": {
    "execution": {
     "iopub.execute_input": "2022-11-15T17:38:32.905795Z",
     "iopub.status.busy": "2022-11-15T17:38:32.905408Z",
     "iopub.status.idle": "2022-11-15T17:38:32.918524Z",
     "shell.execute_reply": "2022-11-15T17:38:32.917291Z",
     "shell.execute_reply.started": "2022-11-15T17:38:32.905763Z"
    }
   },
   "outputs": [],
   "source": [
    "df1=df[['DispositionScore','NotTransit_LikeFPFlag', 'StellarEclipse_FP_Flag',\n",
    "       'CentroidOffsetFPFlag', 'EphemerisMatchIndicatesContaminationFPFlag',\n",
    "       'OrbitalPeriod_days','TransitEpoch_BKJD','ImpactParamete','TransitDuration_hrs','PlanetaryRadius_Earthradii','EquilibriumTemperature_K',\n",
    "       'TransitSignal_to_Noise', 'TCE_PlanetNumber','StellarEffectiveTemperature_K','StellarRadius_Solarradii',]]"
   ]
  },
  {
   "cell_type": "code",
   "execution_count": 32,
   "metadata": {
    "execution": {
     "iopub.execute_input": "2022-11-15T17:38:32.920446Z",
     "iopub.status.busy": "2022-11-15T17:38:32.919853Z",
     "iopub.status.idle": "2022-11-15T17:38:34.505596Z",
     "shell.execute_reply": "2022-11-15T17:38:34.504407Z",
     "shell.execute_reply.started": "2022-11-15T17:38:32.920411Z"
    }
   },
   "outputs": [
    {
     "data": {
      "image/png": "[encoded data removed]",
      "text/plain": [
       "<Figure size 1440x1440 with 2 Axes>"
      ]
     },
     "metadata": {
      "needs_background": "light"
     },
     "output_type": "display_data"
    }
   ],
   "source": [
    "plt.subplots(figsize=(20,20))\n",
    "sns.heatmap(df1.corr(), square=True,annot=True)\n",
    "plt.show()"
   ]
  },
  {
   "cell_type": "markdown",
   "metadata": {},
   "source": [
    "#### Comments:\n",
    "- We can drop 'EphemerisMatchIndicatesContaminationFPFlag' as it is corelated with 'CentroidOffsetFPFlag'. \n",
    "- The corelation between all other features is not so high and seems fine to proceed.\n"
   ]
  },
  {
   "cell_type": "code",
   "execution_count": 33,
   "metadata": {
    "execution": {
     "iopub.execute_input": "2022-11-15T17:38:34.508053Z",
     "iopub.status.busy": "2022-11-15T17:38:34.50713Z",
     "iopub.status.idle": "2022-11-15T17:38:34.516465Z",
     "shell.execute_reply": "2022-11-15T17:38:34.515295Z",
     "shell.execute_reply.started": "2022-11-15T17:38:34.508011Z"
    }
   },
   "outputs": [],
   "source": [
    "df=df.drop('EphemerisMatchIndicatesContaminationFPFlag',axis=1)"
   ]
  },
  {
   "cell_type": "markdown",
   "metadata": {},
   "source": [
    "### Separating the Dependent and Independent Features"
   ]
  },
  {
   "cell_type": "code",
   "execution_count": 34,
   "metadata": {
    "execution": {
     "iopub.execute_input": "2022-11-15T17:38:34.518434Z",
     "iopub.status.busy": "2022-11-15T17:38:34.518021Z",
     "iopub.status.idle": "2022-11-15T17:38:34.533662Z",
     "shell.execute_reply": "2022-11-15T17:38:34.532241Z",
     "shell.execute_reply.started": "2022-11-15T17:38:34.518369Z"
    }
   },
   "outputs": [],
   "source": [
    "X=df.drop(['Disposition_Using_KeplerData'],axis=1)   \n",
    "\n",
    "y=df['Disposition_Using_KeplerData']\n"
   ]
  },
  {
   "cell_type": "markdown",
   "metadata": {},
   "source": [
    "### Encoding the Categorical Variables"
   ]
  },
  {
   "cell_type": "code",
   "execution_count": 35,
   "metadata": {
    "execution": {
     "iopub.execute_input": "2022-11-15T17:38:34.535449Z",
     "iopub.status.busy": "2022-11-15T17:38:34.535095Z",
     "iopub.status.idle": "2022-11-15T17:38:34.557433Z",
     "shell.execute_reply": "2022-11-15T17:38:34.556176Z",
     "shell.execute_reply.started": "2022-11-15T17:38:34.535418Z"
    }
   },
   "outputs": [],
   "source": [
    "X=pd.get_dummies(X,columns=['Exoplanet_Archive_Disposition'],drop_first=True)"
   ]
  },
  {
   "cell_type": "markdown",
   "metadata": {},
   "source": [
    "### Encoding the target variable"
   ]
  },
  {
   "cell_type": "code",
   "execution_count": 36,
   "metadata": {
    "execution": {
     "iopub.execute_input": "2022-11-15T17:38:34.559547Z",
     "iopub.status.busy": "2022-11-15T17:38:34.559227Z",
     "iopub.status.idle": "2022-11-15T17:38:34.569549Z",
     "shell.execute_reply": "2022-11-15T17:38:34.568359Z",
     "shell.execute_reply.started": "2022-11-15T17:38:34.559519Z"
    }
   },
   "outputs": [],
   "source": [
    "y=y.apply(lambda x: 1 if x == 'CANDIDATE' else 0)"
   ]
  },
  {
   "cell_type": "markdown",
   "metadata": {},
   "source": [
    "### Creating Train and Test Split"
   ]
  },
  {
   "cell_type": "code",
   "execution_count": 37,
   "metadata": {
    "execution": {
     "iopub.execute_input": "2022-11-15T17:38:34.571282Z",
     "iopub.status.busy": "2022-11-15T17:38:34.570934Z",
     "iopub.status.idle": "2022-11-15T17:38:34.581855Z",
     "shell.execute_reply": "2022-11-15T17:38:34.580682Z",
     "shell.execute_reply.started": "2022-11-15T17:38:34.571251Z"
    }
   },
   "outputs": [],
   "source": [
    "from sklearn.model_selection import train_test_split"
   ]
  },
  {
   "cell_type": "code",
   "execution_count": 38,
   "metadata": {
    "execution": {
     "iopub.execute_input": "2022-11-15T17:38:34.583702Z",
     "iopub.status.busy": "2022-11-15T17:38:34.583357Z",
     "iopub.status.idle": "2022-11-15T17:38:34.599716Z",
     "shell.execute_reply": "2022-11-15T17:38:34.598619Z",
     "shell.execute_reply.started": "2022-11-15T17:38:34.583671Z"
    }
   },
   "outputs": [],
   "source": [
    "X_train,X_test,y_train,y_test= train_test_split(X,y,test_size=0.2,random_state=42)"
   ]
  },
  {
   "cell_type": "code",
   "execution_count": 39,
   "metadata": {
    "execution": {
     "iopub.execute_input": "2022-11-15T17:38:34.601673Z",
     "iopub.status.busy": "2022-11-15T17:38:34.601301Z",
     "iopub.status.idle": "2022-11-15T17:38:34.61069Z",
     "shell.execute_reply": "2022-11-15T17:38:34.609367Z",
     "shell.execute_reply.started": "2022-11-15T17:38:34.601607Z"
    }
   },
   "outputs": [
    {
     "data": {
      "text/plain": [
       "((7651, 37), (1913, 37))"
      ]
     },
     "execution_count": 39,
     "metadata": {},
     "output_type": "execute_result"
    }
   ],
   "source": [
    "X_train.shape,X_test.shape"
   ]
  },
  {
   "cell_type": "markdown",
   "metadata": {},
   "source": [
    "#### Scaling using Standard-Scaler"
   ]
  },
  {
   "cell_type": "code",
   "execution_count": 40,
   "metadata": {
    "execution": {
     "iopub.execute_input": "2022-11-15T17:38:34.612388Z",
     "iopub.status.busy": "2022-11-15T17:38:34.612085Z",
     "iopub.status.idle": "2022-11-15T17:38:34.636212Z",
     "shell.execute_reply": "2022-11-15T17:38:34.634924Z",
     "shell.execute_reply.started": "2022-11-15T17:38:34.612361Z"
    }
   },
   "outputs": [],
   "source": [
    "from sklearn.preprocessing import StandardScaler\n",
    "scaler=StandardScaler()\n",
    "X_train=scaler.fit_transform(X_train)\n",
    "X_test=scaler.transform(X_test)"
   ]
  },
  {
   "cell_type": "markdown",
   "metadata": {},
   "source": [
    "## Bulding Different Models"
   ]
  },
  {
   "cell_type": "markdown",
   "metadata": {},
   "source": [
    "### Importing different Classification Algorithm"
   ]
  },
  {
   "cell_type": "code",
   "execution_count": 41,
   "metadata": {
    "execution": {
     "iopub.execute_input": "2022-11-15T17:38:34.638542Z",
     "iopub.status.busy": "2022-11-15T17:38:34.637828Z",
     "iopub.status.idle": "2022-11-15T17:38:36.123124Z",
     "shell.execute_reply": "2022-11-15T17:38:36.121966Z",
     "shell.execute_reply.started": "2022-11-15T17:38:34.638485Z"
    }
   },
   "outputs": [],
   "source": [
    "from sklearn.linear_model import LogisticRegression\n",
    "from sklearn.tree import DecisionTreeClassifier\n",
    "from sklearn.ensemble import RandomForestClassifier\n",
    "from sklearn.neighbors import KNeighborsClassifier\n",
    "from sklearn.naive_bayes import GaussianNB\n",
    "from sklearn.tree import ExtraTreeClassifier\n",
    "from sklearn.experimental import enable_hist_gradient_boosting\n",
    "from sklearn.ensemble import HistGradientBoostingClassifier\n",
    "from sklearn.ensemble import AdaBoostClassifier\n",
    "\n",
    "from sklearn.metrics import accuracy_score,classification_report,confusion_matrix,roc_curve"
   ]
  },
  {
   "cell_type": "markdown",
   "metadata": {},
   "source": [
    "#### Doing it Together"
   ]
  },
  {
   "cell_type": "code",
   "execution_count": 42,
   "metadata": {
    "execution": {
     "iopub.execute_input": "2022-11-15T17:38:36.125406Z",
     "iopub.status.busy": "2022-11-15T17:38:36.124722Z",
     "iopub.status.idle": "2022-11-15T17:38:36.138343Z",
     "shell.execute_reply": "2022-11-15T17:38:36.136928Z",
     "shell.execute_reply.started": "2022-11-15T17:38:36.125354Z"
    }
   },
   "outputs": [],
   "source": [
    "regressors = [KNeighborsClassifier(),LogisticRegression(), DecisionTreeClassifier(), RandomForestClassifier(), GaussianNB(),ExtraTreeClassifier(),HistGradientBoostingClassifier(),AdaBoostClassifier()]\n",
    "names = ['KNearestNeighbour','Logistic_Regression', 'DecisionTree', 'Random_Forest','Gaussian NB','ExtraTree', 'HistGradientBoosting','adaboost']"
   ]
  },
  {
   "cell_type": "code",
   "execution_count": 43,
   "metadata": {
    "_kg_hide-output": true
   },
   "outputs": [],
   "source": [
    "model_dict = {}\n",
    "for name, reg in zip(names, regressors):\n",
    "    \n",
    "    # training\n",
    "    reg.fit(X_train, y_train)\n",
    "    \n",
    "    # accuracy\n",
    "    score = reg.score(X_test, y_test)\n",
    "    model_dict[name] = [accuracy_score(y_train, reg.predict(X_train)),accuracy_score(y_test, reg.predict(X_test)) ]"
   ]
  },
  {
   "cell_type": "code",
   "execution_count": 44,
   "metadata": {
    "execution": {
     "iopub.execute_input": "2022-11-15T17:38:53.655163Z",
     "iopub.status.busy": "2022-11-15T17:38:53.652284Z",
     "iopub.status.idle": "2022-11-15T17:38:53.671357Z",
     "shell.execute_reply": "2022-11-15T17:38:53.670571Z",
     "shell.execute_reply.started": "2022-11-15T17:38:53.655116Z"
    }
   },
   "outputs": [
    {
     "data": {
      "text/html": [
       "<div>\n",
       "<style scoped>\n",
       "    .dataframe tbody tr th:only-of-type {\n",
       "        vertical-align: middle;\n",
       "    }\n",
       "\n",
       "    .dataframe tbody tr th {\n",
       "        vertical-align: top;\n",
       "    }\n",
       "\n",
       "    .dataframe thead th {\n",
       "        text-align: right;\n",
       "    }\n",
       "</style>\n",
       "<table border=\"1\" class=\"dataframe\">\n",
       "  <thead>\n",
       "    <tr style=\"text-align: right;\">\n",
       "      <th></th>\n",
       "      <th>Training Accuracy</th>\n",
       "      <th>Testing Accuracy</th>\n",
       "    </tr>\n",
       "  </thead>\n",
       "  <tbody>\n",
       "    <tr>\n",
       "      <th>DecisionTree</th>\n",
       "      <td>1.000000</td>\n",
       "      <td>0.999477</td>\n",
       "    </tr>\n",
       "    <tr>\n",
       "      <th>Random_Forest</th>\n",
       "      <td>1.000000</td>\n",
       "      <td>0.999477</td>\n",
       "    </tr>\n",
       "    <tr>\n",
       "      <th>HistGradientBoosting</th>\n",
       "      <td>1.000000</td>\n",
       "      <td>0.999477</td>\n",
       "    </tr>\n",
       "    <tr>\n",
       "      <th>adaboost</th>\n",
       "      <td>1.000000</td>\n",
       "      <td>0.999477</td>\n",
       "    </tr>\n",
       "    <tr>\n",
       "      <th>ExtraTree</th>\n",
       "      <td>1.000000</td>\n",
       "      <td>0.996341</td>\n",
       "    </tr>\n",
       "    <tr>\n",
       "      <th>Logistic_Regression</th>\n",
       "      <td>0.999869</td>\n",
       "      <td>0.999477</td>\n",
       "    </tr>\n",
       "    <tr>\n",
       "      <th>KNearestNeighbour</th>\n",
       "      <td>0.995033</td>\n",
       "      <td>0.988500</td>\n",
       "    </tr>\n",
       "    <tr>\n",
       "      <th>Gaussian NB</th>\n",
       "      <td>0.994641</td>\n",
       "      <td>0.994250</td>\n",
       "    </tr>\n",
       "  </tbody>\n",
       "</table>\n",
       "</div>"
      ],
      "text/plain": [
       "                      Training Accuracy  Testing Accuracy\n",
       "DecisionTree                   1.000000          0.999477\n",
       "Random_Forest                  1.000000          0.999477\n",
       "HistGradientBoosting           1.000000          0.999477\n",
       "adaboost                       1.000000          0.999477\n",
       "ExtraTree                      1.000000          0.996341\n",
       "Logistic_Regression            0.999869          0.999477\n",
       "KNearestNeighbour              0.995033          0.988500\n",
       "Gaussian NB                    0.994641          0.994250"
      ]
     },
     "execution_count": 44,
     "metadata": {},
     "output_type": "execute_result"
    }
   ],
   "source": [
    "model_df = pd.DataFrame(model_dict, index = [\"Training Accuracy\",\"Testing Accuracy\"]).T\n",
    "model_df= model_df.sort_values(by=[\"Training Accuracy\",\"Testing Accuracy\"], ascending=False)\n",
    "model_df"
   ]
  },
  {
   "cell_type": "markdown",
   "metadata": {},
   "source": [
    "####  Although every Classifier is performing upto the mark with significant accuracy. so let's inspect Random forest a bit deeper with cross validation."
   ]
  },
  {
   "cell_type": "markdown",
   "metadata": {},
   "source": [
    "## RandomForestClassifier"
   ]
  },
  {
   "cell_type": "code",
   "execution_count": 45,
   "metadata": {
    "execution": {
     "iopub.execute_input": "2022-11-15T17:38:53.673436Z",
     "iopub.status.busy": "2022-11-15T17:38:53.672501Z",
     "iopub.status.idle": "2022-11-15T17:38:55.370855Z",
     "shell.execute_reply": "2022-11-15T17:38:55.369854Z",
     "shell.execute_reply.started": "2022-11-15T17:38:53.673403Z"
    }
   },
   "outputs": [
    {
     "name": "stdout",
     "output_type": "stream",
     "text": [
      "Accuracy for Training set is\n",
      "100.0\n",
      "----------------------------------\n",
      "Accuracy for Testing set is\n",
      "99.94772608468374\n",
      "----------------------------------\n",
      "\n",
      " The Classification Report is as below\n",
      "\n",
      "              precision    recall  f1-score   support\n",
      "\n",
      "           0       1.00      1.00      1.00      1019\n",
      "           1       1.00      1.00      1.00       894\n",
      "\n",
      "    accuracy                           1.00      1913\n",
      "   macro avg       1.00      1.00      1.00      1913\n",
      "weighted avg       1.00      1.00      1.00      1913\n",
      "\n"
     ]
    }
   ],
   "source": [
    "rmf=RandomForestClassifier()\n",
    "\n",
    "# Train Model\n",
    "rmf.fit(X_train,y_train)\n",
    "\n",
    "# Training set performance\n",
    "train_accuracy= rmf.score(X_train,y_train)\n",
    "\n",
    "#Testing set performance\n",
    "test_accuracy=rmf.score(X_test,y_test)\n",
    "y_pred=rmf.predict(X_test)\n",
    "\n",
    "\n",
    "print('Accuracy for Training set is')\n",
    "print( 100*train_accuracy)\n",
    "print('----------------------------------')\n",
    "print('Accuracy for Testing set is')\n",
    "print( 100*test_accuracy)\n",
    "print('----------------------------------')\n",
    "print('\\n The Classification Report is as below\\n')\n",
    "print(classification_report(y_test,y_pred))\n"
   ]
  },
  {
   "cell_type": "markdown",
   "metadata": {},
   "source": [
    "#### Comments:\n",
    "\n",
    "- I got good accuracy with default parameters so I did not tried for any hyperparameter tuning.\n",
    "- The precision and recall is also 1 which shows our model is quite accurate to predict the candidate exoplanet."
   ]
  },
  {
   "cell_type": "markdown",
   "metadata": {},
   "source": [
    "#### Cross-Validating the model"
   ]
  },
  {
   "cell_type": "code",
   "execution_count": 46,
   "metadata": {
    "execution": {
     "iopub.execute_input": "2022-11-15T17:38:55.373496Z",
     "iopub.status.busy": "2022-11-15T17:38:55.372244Z",
     "iopub.status.idle": "2022-11-15T17:39:01.676324Z",
     "shell.execute_reply": "2022-11-15T17:39:01.675008Z",
     "shell.execute_reply.started": "2022-11-15T17:38:55.373457Z"
    }
   },
   "outputs": [
    {
     "name": "stdout",
     "output_type": "stream",
     "text": [
      "The accuracy scores are \n",
      " [1.         0.99934641 0.99934641 0.99934641 1.        ]\n",
      "\n",
      "\n",
      " The Average Accuracy of RandomForest Classifier is\n",
      " 0.9996078431372549\n"
     ]
    }
   ],
   "source": [
    "from sklearn.model_selection import cross_val_score\n",
    "\n",
    "scores = cross_val_score(rmf,X_train,y_train,cv=5,scoring='accuracy')\n",
    "\n",
    "print('The accuracy scores are \\n',scores)\n",
    "print('\\n\\n The Average Accuracy of RandomForest Classifier is\\n',scores.mean())"
   ]
  },
  {
   "cell_type": "markdown",
   "metadata": {},
   "source": [
    "#### The Confustion Matrix"
   ]
  },
  {
   "cell_type": "code",
   "execution_count": 47,
   "metadata": {
    "execution": {
     "iopub.execute_input": "2022-11-15T17:39:01.678102Z",
     "iopub.status.busy": "2022-11-15T17:39:01.677774Z",
     "iopub.status.idle": "2022-11-15T17:39:01.86579Z",
     "shell.execute_reply": "2022-11-15T17:39:01.864592Z",
     "shell.execute_reply.started": "2022-11-15T17:39:01.678067Z"
    }
   },
   "outputs": [
    {
     "data": {
      "text/plain": [
       "<AxesSubplot:>"
      ]
     },
     "execution_count": 47,
     "metadata": {},
     "output_type": "execute_result"
    },
    {
     "data": {
      "image/png": "[encoded data removed]",
      "text/plain": [
       "<Figure size 432x432 with 2 Axes>"
      ]
     },
     "metadata": {
      "needs_background": "light"
     },
     "output_type": "display_data"
    }
   ],
   "source": [
    "cm = confusion_matrix(y_test,y_pred)\n",
    "\n",
    "plt.rcParams['figure.figsize'] = (6, 6)\n",
    "sns.heatmap(cm ,annot = True)"
   ]
  },
  {
   "cell_type": "markdown",
   "metadata": {},
   "source": [
    "#### Comments:\n",
    "- The value of False-positive is 2 which implies that the model has categoriesed only 2 KOI as candidate but in actual they are disposition as false positive exoplanet."
   ]
  },
  {
   "cell_type": "markdown",
   "metadata": {},
   "source": [
    "#### The ROC Curve"
   ]
  },
  {
   "cell_type": "code",
   "execution_count": 48,
   "metadata": {
    "execution": {
     "iopub.execute_input": "2022-11-15T17:39:01.867806Z",
     "iopub.status.busy": "2022-11-15T17:39:01.867364Z",
     "iopub.status.idle": "2022-11-15T17:39:02.013171Z",
     "shell.execute_reply": "2022-11-15T17:39:02.012222Z",
     "shell.execute_reply.started": "2022-11-15T17:39:01.867763Z"
    }
   },
   "outputs": [
    {
     "data": {
      "image/png": "[encoded data removed]",
      "text/plain": [
       "<Figure size 432x432 with 1 Axes>"
      ]
     },
     "metadata": {
      "needs_background": "light"
     },
     "output_type": "display_data"
    }
   ],
   "source": [
    "fpr, tpr,_= roc_curve(y_test,y_pred, drop_intermediate=False)\n",
    "\n",
    "plt.figure()\n",
    "# Adding the ROC\n",
    "plt.plot(fpr, tpr, color='red',\n",
    " lw=2, label='ROC curve')\n",
    "# Random FPR and TPR\n",
    "plt.plot([0, 1], [0, 1], color='blue', lw=2, linestyle='--')\n",
    "# Title and label\n",
    "# Title and label\n",
    "plt.xlabel('False-Positive-Rate')\n",
    "plt.ylabel('True-Positive-Rate')\n",
    "plt.title('ROC curve')\n",
    "plt.show()"
   ]
  },
  {
   "cell_type": "markdown",
   "metadata": {},
   "source": [
    "#### Comments:\n",
    "- The area under the Roc curve is maximum which signfies the model is a good separator/classifier. "
   ]
  },
  {
   "cell_type": "markdown",
   "metadata": {},
   "source": [
    "## Question/Answer\n"
   ]
  },
  {
   "cell_type": "markdown",
   "metadata": {},
   "source": [
    "#### Q1) Why did you choose the particular algorithm?\n",
    "Ans) I have used Random Forest Classifier as an example because it is a versatile and widely used classification algorithm that often yields good results across a variety of datasets. Here are some reasons why Random Forest might be a suitable choice for classifying the Kepler data:\n",
    "\n",
    "* High Accuracy: Random Forests tend to perform well in classification tasks, even with complex datasets like the one from Kepler.\n",
    "\n",
    "\n",
    "* Robustness to Overfitting: Random Forests are less prone to overfitting compared to some other models, thanks to their ensemble nature and the use of multiple decision trees.\n",
    "\n",
    "\n",
    "* Handle Both Numerical and Categorical Data: Random Forests can handle a mixture of numerical and categorical features without requiring extensive preprocessing.\n",
    "\n",
    "\n",
    "* Feature Importance: Random Forests provide a measure of feature importance, which can be useful for understanding which features are most relevant for classification.\n",
    "\n",
    "\n",
    "* Less Sensitive to Hyperparameters: Random Forests are generally less sensitive to hyperparameters compared to some other models, making them easier to tune and less likely to require extensive parameter optimization.\n",
    "\n",
    "\n",
    "* Parallelization: Random Forests can be easily parallelized, making them efficient for training on large datasets.\n",
    "\n",
    "While Random Forest is a good starting point, it's essential to experiment with different models and compare their performance to choose the best one for your specific dataset and classification task. Other models like Support Vector Machines, Gradient Boosting Machines, or even deep learning models could also be suitable depending on the characteristics of the data and the desired performance metrics."
   ]
  },
  {
   "cell_type": "markdown",
   "metadata": {},
   "source": [
    "#### Q2) What are the different tuning methods used for the algorithm?\n",
    "Ans) For tuning the Random Forest Classifier (or any machine learning algorithm), several methods can be employed to optimize its performance. Here are some common tuning methods for Random Forests:\n",
    "\n",
    "* Grid Search: Grid Search involves specifying a grid of hyperparameter values and exhaustively searching through all possible combinations of these values. This method can be computationally expensive but ensures thorough exploration of the hyperparameter space.\n",
    "\n",
    "\n",
    "* Random Search: Random Search randomly samples hyperparameter values from predefined distributions instead of exhaustively searching through all possible combinations. While it may not guarantee finding the optimal combination, it is more efficient than Grid Search and often finds good solutions with fewer iterations.\n",
    "\n",
    "\n",
    "* Bayesian Optimization: Bayesian Optimization is an iterative optimization technique that uses probabilistic models to approximate the objective function and decide which hyperparameters to explore next. It typically requires fewer evaluations than Grid Search and Random Search, making it suitable for expensive objective functions.\n",
    "\n",
    "\n",
    "* Gradient-Based Optimization: Gradient-based optimization methods, such as gradient descent or its variants (e.g., Adam, RMSprop), can be used to optimize hyperparameters by directly optimizing an objective function (e.g., cross-validation score) with respect to hyperparameters.\n",
    "\n",
    "\n",
    "* Ensemble Methods: Ensemble methods combine multiple models trained with different hyperparameters to improve performance. For Random Forests, this could involve training multiple Random Forest models with different hyperparameters and combining their predictions (e.g., bagging, boosting).\n",
    "\n",
    "\n",
    "* Cross-Validation: Cross-validation is a technique used to assess the generalization performance of a model and select hyperparameters. By splitting the data into multiple training and validation sets, it provides more reliable estimates of model performance and helps prevent overfitting.\n",
    "\n",
    "\n",
    "* Feature Selection: Tuning the Random Forest by selecting the most important features can improve its performance and reduce overfitting. Feature selection methods, such as recursive feature elimination or feature importance ranking, can be used in conjunction with hyperparameter tuning.\n",
    "\n",
    "\n",
    "* Early Stopping: Early stopping is a regularization technique that stops training the model when performance on a validation set starts to degrade. It prevents overfitting and can be used as a form of hyperparameter tuning by determining the optimal number of iterations (trees) for the Random Forest.\n",
    "\n",
    "\n",
    "These tuning methods can be used individually or in combination to find the optimal hyperparameters for the Random Forest Classifier, ultimately improving its performance on the classification task. Experimentation and careful consideration of the dataset characteristics are crucial for selecting the most effective tuning strategy."
   ]
  },
  {
   "cell_type": "markdown",
   "metadata": {},
   "source": [
    "#### Q3) Did you consider any other choice of algorithm?Why or why not?\n",
    "Ans) Yes, I choose algorithms like Logistic Regression, Decision Tree, AdaBoost, GaussianNB, KNN, etc. Because they are also some other classification techniques. Still I chose Random Forest because of the factors influencing the selection of ML model:-\n",
    "\n",
    "1) Nature of the Data: Understanding the characteristics of the Kepler data is crucial for selecting an appropriate algorithm. Different algorithms have different strengths and weaknesses, and the nature of the data can influence which algorithm is most suitable.\n",
    "\n",
    "2) Size of the Dataset: The size of the dataset can impact the choice of algorithm. Some algorithms, like deep learning models, may require a large amount of data to generalize well, while others, like decision trees or random forests, can perform well even with smaller datasets.\n",
    "\n",
    "3) Complexity of the Model: The complexity of the model needed to capture the relationships in the data is another important consideration. More complex algorithms, such as deep learning models, may be necessary for highly nonlinear or intricate patterns in the data, while simpler models like decision trees may suffice for less complex datasets.\n",
    "\n",
    "4) Interpretability: Some algorithms, such as decision trees and linear models, offer interpretability, allowing us to understand how the model makes predictions. This can be essential for gaining insights into the underlying relationships in the data.\n",
    "\n",
    "5) Computational Resources: The computational resources available can also influence the choice of algorithm. Some algorithms, like deep learning models, may require significant computational power and time to train, while others, like decision trees, are relatively faster and more computationally efficient.\n",
    "\n",
    "Given these factors and the lack of specific information about the characteristics of the Kepler data, I chose the Random Forest Classifier as a starting point because it generally performs well across a wide range of datasets, handles both numerical and categorical data, is less prone to overfitting, and provides insights into feature importance. However, depending on further analysis of the data and specific requirements of the classification task, other algorithms like Support Vector Machines, Gradient Boosting Machines, or even deep learning models could also be considered. Each algorithm has its strengths and weaknesses, and the choice ultimately depends on the specific context of the problem at hand."
   ]
  },
  {
   "cell_type": "markdown",
   "metadata": {},
   "source": [
    "#### Q4) What is the accuracy?\n",
    "\n",
    "Ans) Answer for this question is given below in the form of a code:-"
   ]
  },
  {
   "cell_type": "code",
   "execution_count": 50,
   "metadata": {},
   "outputs": [
    {
     "name": "stdout",
     "output_type": "stream",
     "text": [
      "The accuracy scores are  [1.         0.99934641 0.99934641 0.99934641 1.        ]\n",
      "The Average Accuracy of RandomForest Classifier is 0.9996078431372549\n"
     ]
    }
   ],
   "source": [
    "print('The accuracy scores are ',scores)\n",
    "print('The Average Accuracy of RandomForest Classifier is',scores.mean())"
   ]
  },
  {
   "cell_type": "markdown",
   "metadata": {},
   "source": [
    "#### Q5) What are the different types of metrics that can be used to evaluate the model?\n",
    "\n",
    "Ans) Some of the metrics used to evaluate the model are:-\n",
    "\n",
    "1) Accuracy: Accuracy measures the proportion of correctly classified instances out of the total instances. It is suitable for balanced datasets but can be misleading when the classes are imbalanced.\n",
    "\n",
    "2) Precision: Precision measures the proportion of true positive predictions out of all positive predictions. It focuses on the accuracy of positive predictions and is useful when the cost of false positives is high.\n",
    "\n",
    "3) Recall (Sensitivity): Recall measures the proportion of true positive predictions out of all actual positives. It focuses on capturing as many positive instances as possible and is useful when the cost of false negatives is high.\n",
    "\n",
    "4) F1 Score: F1 Score is the harmonic mean of precision and recall. It provides a balance between precision and recall and is useful when there is an uneven class distribution.\n",
    "\n",
    "5) ROC Curve and AUC: Receiver Operating Characteristic (ROC) curve plots the true positive rate (TPR) against the false positive rate (FPR) at various threshold settings. The Area Under the ROC Curve (AUC) provides a single scalar value representing the performance of the classifier across all possible thresholds. It is suitable for imbalanced datasets and provides a comprehensive evaluation of the classifier's performance.\n",
    "\n",
    "6) Confusion Matrix: A confusion matrix provides a tabular representation of the actual vs. predicted classes, showing the number of true positives, true negatives, false positives, and false negatives. It is useful for understanding the types of errors made by the classifier.\n",
    "\n",
    "7) Specificity: Specificity measures the proportion of true negative predictions out of all actual negatives. It is the complement of the false positive rate and is useful for evaluating the classifier's ability to correctly identify negative instances.\n",
    "\n",
    "8) F-beta Score: F-beta Score is a generalized form of the F1 Score that allows adjusting the importance of precision and recall using the parameter beta. When beta is less than 1, it gives more weight to precision, and when beta is greater than 1, it gives more weight to recall.\n",
    "\n",
    "These metrics provide different perspectives on the performance of a classification model and can help assess its effectiveness in various scenarios. It's essential to consider the specific objectives of the classification task and the characteristics of the dataset when selecting the appropriate evaluation metrics."
   ]
  },
  {
   "cell_type": "code",
   "execution_count": null,
   "metadata": {},
   "outputs": [],
   "source": []
  }
 ],
 "metadata": {
  "kaggle": {
   "accelerator": "none",
   "dataSources": [
    {
     "datasetId": 2894,
     "sourceId": 4877,
     "sourceType": "datasetVersion"
    }
   ],
   "dockerImageVersionId": 30301,
   "isGpuEnabled": false,
   "isInternetEnabled": false,
   "language": "python",
   "sourceType": "notebook"
  },
  "kernelspec": {
   "display_name": "Python 3 (ipykernel)",
   "language": "python",
   "name": "python3"
  },
  "language_info": {
   "codemirror_mode": {
    "name": "ipython",
    "version": 3
   },
   "file_extension": ".py",
   "mimetype": "text/x-python",
   "name": "python",
   "nbconvert_exporter": "python",
   "pygments_lexer": "ipython3",
   "version": "3.9.0"
  }
 },
 "nbformat": 4,
 "nbformat_minor": 4
}
